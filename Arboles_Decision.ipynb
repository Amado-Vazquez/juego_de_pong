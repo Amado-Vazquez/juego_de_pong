{
  "nbformat": 4,
  "nbformat_minor": 0,
  "metadata": {
    "kernelspec": {
      "display_name": "Python 3",
      "language": "python",
      "name": "python3"
    },
    "language_info": {
      "codemirror_mode": {
        "name": "ipython",
        "version": 3
      },
      "file_extension": ".py",
      "mimetype": "text/x-python",
      "name": "python",
      "nbconvert_exporter": "python",
      "pygments_lexer": "ipython3",
      "version": "3.7.1"
    },
    "colab": {
      "name": "Arboles_Decision.ipynb",
      "provenance": [],
      "include_colab_link": true
    }
  },
  "cells": [
    {
      "cell_type": "markdown",
      "metadata": {
        "id": "view-in-github",
        "colab_type": "text"
      },
      "source": [
        "<a href=\"https://colab.research.google.com/github/Amado-Vazquez/juego_de_pong/blob/master/Arboles_Decision.ipynb\" target=\"_parent\"><img src=\"https://colab.research.google.com/assets/colab-badge.svg\" alt=\"Open In Colab\"/></a>"
      ]
    },
    {
      "cell_type": "markdown",
      "metadata": {
        "id": "NCrbzfa02Fpr"
      },
      "source": [
        "### Entendiendo los datos"
      ]
    },
    {
      "cell_type": "code",
      "metadata": {
        "id": "WWnl_3u52Fpv"
      },
      "source": [
        "import numpy as np\n",
        "import pandas as pd\n",
        "import matplotlib.pyplot as plt\n",
        "from sklearn import linear_model\n",
        "from sklearn.model_selection import train_test_split\n",
        "from sklearn.tree import DecisionTreeClassifier\n",
        "from sklearn.metrics import accuracy_score\n",
        "from sklearn.metrics import classification_report\n",
        "from sklearn.tree import export_graphviz\n",
        "from sklearn.model_selection import cross_val_score"
      ],
      "execution_count": null,
      "outputs": []
    },
    {
      "cell_type": "code",
      "metadata": {
        "id": "ZdgEzW_g2Fpy"
      },
      "source": [
        "plt.style.use('ggplot')"
      ],
      "execution_count": null,
      "outputs": []
    },
    {
      "cell_type": "markdown",
      "metadata": {
        "id": "bs4Y9Xy32Fpz"
      },
      "source": [
        "## Census Income Dataset"
      ]
    },
    {
      "cell_type": "markdown",
      "metadata": {
        "id": "sBwhhFgH2Fp0"
      },
      "source": [
        "Datos de la Universidad de California.\n",
        "\n",
        "<table>\n",
        "<tr>\n",
        "    <th>Columns</th>\n",
        "    <th>Descriptions</th>\n",
        "</tr>\n",
        "<tr>\n",
        "    <td>age</td>\n",
        "    <td> Age of the Person</td>\n",
        "</tr>\n",
        "<tr>\n",
        "    <td>workclass</td>\n",
        "    <td>The type of employment of the person</td>\n",
        "</tr>\n",
        "<tr>\n",
        "    <td>education</td>\n",
        "    <td>Education level of the person</td>\n",
        "</tr>\n",
        "<tr>\n",
        "    <td>marital_status</td>\n",
        "    <td>If the person if married or not</td>\n",
        "</tr>\n",
        "<tr>\n",
        "    <td>Occupation</td>\n",
        "    <td>What type of jobs does the person do</td>\n",
        "</tr>\n",
        "<tr>\n",
        "    <td>relationship</td>\n",
        "    <td>Type of relationship of the person</td>\n",
        "</tr>\n",
        "<tr>\n",
        "    <td>race</td>\n",
        "    <td>Ethinicity of the person</td>\n",
        "</tr>\n",
        "<tr>\n",
        "    <td>gender</td>\n",
        "    <td>Gender of the person </td>\n",
        "</tr>\n",
        "<tr>\n",
        "    <td>hours_per_week</td>\n",
        "    <td>Average hours worked per week</td>\n",
        "</tr>\n",
        "<tr>\n",
        "    <td>native_country</td>\n",
        "    <td>Country of origin</td>\n",
        "</tr>\n",
        "<tr>\n",
        "    <td>greater_than_50k</td>\n",
        "    <td>Flag which indicates if the person is earning more than 50K dollars in a year</td>\n",
        "</tr>\n",
        "</table>"
      ]
    },
    {
      "cell_type": "markdown",
      "metadata": {
        "id": "dqVH_MHV2Fp3"
      },
      "source": [
        "Cargamos los datos"
      ]
    },
    {
      "cell_type": "code",
      "metadata": {
        "scrolled": true,
        "id": "QKp34z6e2Fp4",
        "outputId": "cd4b765d-8320-48a0-c613-8d835a07bb2d"
      },
      "source": [
        "data = pd.read_csv('census.csv')\n",
        "data.head()"
      ],
      "execution_count": null,
      "outputs": [
        {
          "output_type": "execute_result",
          "data": {
            "text/html": [
              "<div>\n",
              "<style scoped>\n",
              "    .dataframe tbody tr th:only-of-type {\n",
              "        vertical-align: middle;\n",
              "    }\n",
              "\n",
              "    .dataframe tbody tr th {\n",
              "        vertical-align: top;\n",
              "    }\n",
              "\n",
              "    .dataframe thead th {\n",
              "        text-align: right;\n",
              "    }\n",
              "</style>\n",
              "<table border=\"1\" class=\"dataframe\">\n",
              "  <thead>\n",
              "    <tr style=\"text-align: right;\">\n",
              "      <th></th>\n",
              "      <th>age</th>\n",
              "      <th>workclass</th>\n",
              "      <th>education</th>\n",
              "      <th>education_num</th>\n",
              "      <th>marital_status</th>\n",
              "      <th>occupation</th>\n",
              "      <th>relationship</th>\n",
              "      <th>race</th>\n",
              "      <th>gender</th>\n",
              "      <th>hours_per_week</th>\n",
              "      <th>native_country</th>\n",
              "      <th>greater_than_50k</th>\n",
              "    </tr>\n",
              "  </thead>\n",
              "  <tbody>\n",
              "    <tr>\n",
              "      <th>0</th>\n",
              "      <td>39</td>\n",
              "      <td>State-gov</td>\n",
              "      <td>Bachelors</td>\n",
              "      <td>13</td>\n",
              "      <td>Never-married</td>\n",
              "      <td>Adm-clerical</td>\n",
              "      <td>Not-in-family</td>\n",
              "      <td>White</td>\n",
              "      <td>Male</td>\n",
              "      <td>40</td>\n",
              "      <td>United-States</td>\n",
              "      <td>0</td>\n",
              "    </tr>\n",
              "    <tr>\n",
              "      <th>1</th>\n",
              "      <td>50</td>\n",
              "      <td>Self-emp-not-inc</td>\n",
              "      <td>Bachelors</td>\n",
              "      <td>13</td>\n",
              "      <td>Married-civ-spouse</td>\n",
              "      <td>Exec-managerial</td>\n",
              "      <td>Husband</td>\n",
              "      <td>White</td>\n",
              "      <td>Male</td>\n",
              "      <td>13</td>\n",
              "      <td>United-States</td>\n",
              "      <td>0</td>\n",
              "    </tr>\n",
              "    <tr>\n",
              "      <th>2</th>\n",
              "      <td>38</td>\n",
              "      <td>Private</td>\n",
              "      <td>HS-grad</td>\n",
              "      <td>9</td>\n",
              "      <td>Divorced</td>\n",
              "      <td>Handlers-cleaners</td>\n",
              "      <td>Not-in-family</td>\n",
              "      <td>White</td>\n",
              "      <td>Male</td>\n",
              "      <td>40</td>\n",
              "      <td>United-States</td>\n",
              "      <td>0</td>\n",
              "    </tr>\n",
              "    <tr>\n",
              "      <th>3</th>\n",
              "      <td>53</td>\n",
              "      <td>Private</td>\n",
              "      <td>11th</td>\n",
              "      <td>7</td>\n",
              "      <td>Married-civ-spouse</td>\n",
              "      <td>Handlers-cleaners</td>\n",
              "      <td>Husband</td>\n",
              "      <td>Black</td>\n",
              "      <td>Male</td>\n",
              "      <td>40</td>\n",
              "      <td>United-States</td>\n",
              "      <td>0</td>\n",
              "    </tr>\n",
              "    <tr>\n",
              "      <th>4</th>\n",
              "      <td>28</td>\n",
              "      <td>Private</td>\n",
              "      <td>Bachelors</td>\n",
              "      <td>13</td>\n",
              "      <td>Married-civ-spouse</td>\n",
              "      <td>Prof-specialty</td>\n",
              "      <td>Wife</td>\n",
              "      <td>Black</td>\n",
              "      <td>Female</td>\n",
              "      <td>40</td>\n",
              "      <td>Cuba</td>\n",
              "      <td>0</td>\n",
              "    </tr>\n",
              "  </tbody>\n",
              "</table>\n",
              "</div>"
            ],
            "text/plain": [
              "   age          workclass   education  education_num       marital_status  \\\n",
              "0   39          State-gov   Bachelors             13        Never-married   \n",
              "1   50   Self-emp-not-inc   Bachelors             13   Married-civ-spouse   \n",
              "2   38            Private     HS-grad              9             Divorced   \n",
              "3   53            Private        11th              7   Married-civ-spouse   \n",
              "4   28            Private   Bachelors             13   Married-civ-spouse   \n",
              "\n",
              "           occupation    relationship    race   gender  hours_per_week  \\\n",
              "0        Adm-clerical   Not-in-family   White     Male              40   \n",
              "1     Exec-managerial         Husband   White     Male              13   \n",
              "2   Handlers-cleaners   Not-in-family   White     Male              40   \n",
              "3   Handlers-cleaners         Husband   Black     Male              40   \n",
              "4      Prof-specialty            Wife   Black   Female              40   \n",
              "\n",
              "   native_country  greater_than_50k  \n",
              "0   United-States                 0  \n",
              "1   United-States                 0  \n",
              "2   United-States                 0  \n",
              "3   United-States                 0  \n",
              "4            Cuba                 0  "
            ]
          },
          "metadata": {
            "tags": []
          },
          "execution_count": 30
        }
      ]
    },
    {
      "cell_type": "markdown",
      "metadata": {
        "id": "sgz98GFS2Fp5"
      },
      "source": [
        "Veamos el nivel de poblamiento de las variables"
      ]
    },
    {
      "cell_type": "code",
      "metadata": {
        "id": "YNAwvcvb2Fp6",
        "outputId": "5d680fa5-27db-4997-a03d-ab374bac5501"
      },
      "source": [
        "data.count(0)/data.shape[0] * 100"
      ],
      "execution_count": null,
      "outputs": [
        {
          "output_type": "execute_result",
          "data": {
            "text/plain": [
              "age                 100.000000\n",
              "workclass            94.361179\n",
              "education           100.000000\n",
              "education_num       100.000000\n",
              "marital_status      100.000000\n",
              "occupation           94.339681\n",
              "relationship        100.000000\n",
              "race                100.000000\n",
              "gender              100.000000\n",
              "hours_per_week      100.000000\n",
              "native_country       98.209459\n",
              "greater_than_50k    100.000000\n",
              "dtype: float64"
            ]
          },
          "metadata": {
            "tags": []
          },
          "execution_count": 31
        }
      ]
    },
    {
      "cell_type": "markdown",
      "metadata": {
        "id": "IZsGzEPG2Fp7"
      },
      "source": [
        "Eliminamos variable duplicada"
      ]
    },
    {
      "cell_type": "code",
      "metadata": {
        "id": "DUaMn2qA2Fp8"
      },
      "source": [
        "del data['education_num']"
      ],
      "execution_count": null,
      "outputs": []
    },
    {
      "cell_type": "markdown",
      "metadata": {
        "id": "yoikaefO2Fp9"
      },
      "source": [
        "Exploramos los datos y entendemos ciertos patrones existentes.\n",
        "\n",
        "<strong>Hipótesis 1: Personas mayores, ganan más.</strong>\n"
      ]
    },
    {
      "cell_type": "code",
      "metadata": {
        "id": "2kRLuzh72Fp-",
        "outputId": "2be0f21a-93f0-4160-87cd-c416e962bb0c"
      },
      "source": [
        "# El grupo de personas que ganan más de 50K.\n",
        "data[data.greater_than_50k == 1].head()"
      ],
      "execution_count": null,
      "outputs": [
        {
          "output_type": "execute_result",
          "data": {
            "text/html": [
              "<div>\n",
              "<style scoped>\n",
              "    .dataframe tbody tr th:only-of-type {\n",
              "        vertical-align: middle;\n",
              "    }\n",
              "\n",
              "    .dataframe tbody tr th {\n",
              "        vertical-align: top;\n",
              "    }\n",
              "\n",
              "    .dataframe thead th {\n",
              "        text-align: right;\n",
              "    }\n",
              "</style>\n",
              "<table border=\"1\" class=\"dataframe\">\n",
              "  <thead>\n",
              "    <tr style=\"text-align: right;\">\n",
              "      <th></th>\n",
              "      <th>age</th>\n",
              "      <th>workclass</th>\n",
              "      <th>education</th>\n",
              "      <th>marital_status</th>\n",
              "      <th>occupation</th>\n",
              "      <th>relationship</th>\n",
              "      <th>race</th>\n",
              "      <th>gender</th>\n",
              "      <th>hours_per_week</th>\n",
              "      <th>native_country</th>\n",
              "      <th>greater_than_50k</th>\n",
              "    </tr>\n",
              "  </thead>\n",
              "  <tbody>\n",
              "    <tr>\n",
              "      <th>7</th>\n",
              "      <td>52</td>\n",
              "      <td>Self-emp-not-inc</td>\n",
              "      <td>HS-grad</td>\n",
              "      <td>Married-civ-spouse</td>\n",
              "      <td>Exec-managerial</td>\n",
              "      <td>Husband</td>\n",
              "      <td>White</td>\n",
              "      <td>Male</td>\n",
              "      <td>45</td>\n",
              "      <td>United-States</td>\n",
              "      <td>1</td>\n",
              "    </tr>\n",
              "    <tr>\n",
              "      <th>8</th>\n",
              "      <td>31</td>\n",
              "      <td>Private</td>\n",
              "      <td>Masters</td>\n",
              "      <td>Never-married</td>\n",
              "      <td>Prof-specialty</td>\n",
              "      <td>Not-in-family</td>\n",
              "      <td>White</td>\n",
              "      <td>Female</td>\n",
              "      <td>50</td>\n",
              "      <td>United-States</td>\n",
              "      <td>1</td>\n",
              "    </tr>\n",
              "    <tr>\n",
              "      <th>9</th>\n",
              "      <td>42</td>\n",
              "      <td>Private</td>\n",
              "      <td>Bachelors</td>\n",
              "      <td>Married-civ-spouse</td>\n",
              "      <td>Exec-managerial</td>\n",
              "      <td>Husband</td>\n",
              "      <td>White</td>\n",
              "      <td>Male</td>\n",
              "      <td>40</td>\n",
              "      <td>United-States</td>\n",
              "      <td>1</td>\n",
              "    </tr>\n",
              "    <tr>\n",
              "      <th>10</th>\n",
              "      <td>37</td>\n",
              "      <td>Private</td>\n",
              "      <td>Some-college</td>\n",
              "      <td>Married-civ-spouse</td>\n",
              "      <td>Exec-managerial</td>\n",
              "      <td>Husband</td>\n",
              "      <td>Black</td>\n",
              "      <td>Male</td>\n",
              "      <td>80</td>\n",
              "      <td>United-States</td>\n",
              "      <td>1</td>\n",
              "    </tr>\n",
              "    <tr>\n",
              "      <th>11</th>\n",
              "      <td>30</td>\n",
              "      <td>State-gov</td>\n",
              "      <td>Bachelors</td>\n",
              "      <td>Married-civ-spouse</td>\n",
              "      <td>Prof-specialty</td>\n",
              "      <td>Husband</td>\n",
              "      <td>Asian-Pac-Islander</td>\n",
              "      <td>Male</td>\n",
              "      <td>40</td>\n",
              "      <td>India</td>\n",
              "      <td>1</td>\n",
              "    </tr>\n",
              "  </tbody>\n",
              "</table>\n",
              "</div>"
            ],
            "text/plain": [
              "    age          workclass      education       marital_status  \\\n",
              "7    52   Self-emp-not-inc        HS-grad   Married-civ-spouse   \n",
              "8    31            Private        Masters        Never-married   \n",
              "9    42            Private      Bachelors   Married-civ-spouse   \n",
              "10   37            Private   Some-college   Married-civ-spouse   \n",
              "11   30          State-gov      Bachelors   Married-civ-spouse   \n",
              "\n",
              "          occupation    relationship                 race   gender  \\\n",
              "7    Exec-managerial         Husband                White     Male   \n",
              "8     Prof-specialty   Not-in-family                White   Female   \n",
              "9    Exec-managerial         Husband                White     Male   \n",
              "10   Exec-managerial         Husband                Black     Male   \n",
              "11    Prof-specialty         Husband   Asian-Pac-Islander     Male   \n",
              "\n",
              "    hours_per_week  native_country  greater_than_50k  \n",
              "7               45   United-States                 1  \n",
              "8               50   United-States                 1  \n",
              "9               40   United-States                 1  \n",
              "10              80   United-States                 1  \n",
              "11              40           India                 1  "
            ]
          },
          "metadata": {
            "tags": []
          },
          "execution_count": 33
        }
      ]
    },
    {
      "cell_type": "code",
      "metadata": {
        "id": "NyA2p31L2Fp_",
        "outputId": "4b9eacb8-2ce5-4a76-f1c2-4a4a31ceb7e4"
      },
      "source": [
        "data[data.greater_than_50k == 1].age.values"
      ],
      "execution_count": null,
      "outputs": [
        {
          "output_type": "execute_result",
          "data": {
            "text/plain": [
              "array([52, 31, 42, ..., 53, 40, 52], dtype=int64)"
            ]
          },
          "metadata": {
            "tags": []
          },
          "execution_count": 34
        }
      ]
    },
    {
      "cell_type": "code",
      "metadata": {
        "id": "jooN0EP92FqA",
        "outputId": "2f739e94-bafc-41aa-ba39-3e831ea68563"
      },
      "source": [
        "hist_above_50 = plt.hist(data[data.greater_than_50k == 1].age.values, 10, facecolor='green', alpha=0.5)\n",
        "plt.title('Distribución de la edad de los que ganan más')\n",
        "plt.xlabel('Edad')\n",
        "plt.ylabel('Frecuencia')"
      ],
      "execution_count": null,
      "outputs": [
        {
          "output_type": "execute_result",
          "data": {
            "text/plain": [
              "Text(0, 0.5, 'Frecuencia')"
            ]
          },
          "metadata": {
            "tags": []
          },
          "execution_count": 35
        },
        {
          "output_type": "display_data",
          "data": {
            "image/png": "[encoded data removed]",
            "text/plain": [
              "<Figure size 432x288 with 1 Axes>"
            ]
          },
          "metadata": {
            "tags": []
          }
        }
      ]
    },
    {
      "cell_type": "markdown",
      "metadata": {
        "id": "BXh77rF62FqB"
      },
      "source": [
        "Los que ganan más, se concentran entre los 35 a 55 años."
      ]
    },
    {
      "cell_type": "markdown",
      "metadata": {
        "id": "QgbHtccb2FqB"
      },
      "source": [
        "Y en los que ganan menos"
      ]
    },
    {
      "cell_type": "code",
      "metadata": {
        "id": "uYcqXXyN2FqC",
        "outputId": "6ba0cf51-706e-4489-f339-6efd0fa33d1f"
      },
      "source": [
        "hist_below_50 = plt.hist(data[data.greater_than_50k == 0].age.values, 10, facecolor='green', alpha=0.5)\n",
        "plt.title('Distribución de la edad')\n",
        "plt.xlabel('Edad')\n",
        "plt.ylabel('Frecuencia')"
      ],
      "execution_count": null,
      "outputs": [
        {
          "output_type": "execute_result",
          "data": {
            "text/plain": [
              "Text(0, 0.5, 'Frecuencia')"
            ]
          },
          "metadata": {
            "tags": []
          },
          "execution_count": 36
        },
        {
          "output_type": "display_data",
          "data": {
            "image/png": "[encoded data removed]",
            "text/plain": [
              "<Figure size 432x288 with 1 Axes>"
            ]
          },
          "metadata": {
            "tags": []
          }
        }
      ]
    },
    {
      "cell_type": "markdown",
      "metadata": {
        "id": "sBxpDubV2FqD"
      },
      "source": [
        "Los que ganen menos se concentran entre los 20 y 30 años."
      ]
    },
    {
      "cell_type": "markdown",
      "metadata": {
        "id": "9erDc2wf2FqD"
      },
      "source": [
        "<strong>Hipótesis 2: Ingresos varían dependiendo del tipo de empleo </strong>"
      ]
    },
    {
      "cell_type": "code",
      "metadata": {
        "id": "cZXa3GgV2FqE",
        "outputId": "96c9b4ff-0377-4b3b-a29c-51bca4e1b39e"
      },
      "source": [
        "data[data.greater_than_50k == 1].groupby('workclass').workclass.count()"
      ],
      "execution_count": null,
      "outputs": [
        {
          "output_type": "execute_result",
          "data": {
            "text/plain": [
              "workclass\n",
              " Federal-gov          371\n",
              " Local-gov            617\n",
              " Private             4963\n",
              " Self-emp-inc         622\n",
              " Self-emp-not-inc     724\n",
              " State-gov            353\n",
              "Name: workclass, dtype: int64"
            ]
          },
          "metadata": {
            "tags": []
          },
          "execution_count": 37
        }
      ]
    },
    {
      "cell_type": "code",
      "metadata": {
        "id": "xVxr9UHV2FqF",
        "outputId": "e71dbc43-b24e-4820-fb86-804378b16c90"
      },
      "source": [
        "data[data.greater_than_50k == 0].groupby('workclass').workclass.count()"
      ],
      "execution_count": null,
      "outputs": [
        {
          "output_type": "execute_result",
          "data": {
            "text/plain": [
              "workclass\n",
              " Federal-gov           589\n",
              " Local-gov            1476\n",
              " Never-worked            7\n",
              " Private             17732\n",
              " Self-emp-inc          494\n",
              " Self-emp-not-inc     1817\n",
              " State-gov             945\n",
              " Without-pay            14\n",
              "Name: workclass, dtype: int64"
            ]
          },
          "metadata": {
            "tags": []
          },
          "execution_count": 38
        }
      ]
    },
    {
      "cell_type": "code",
      "metadata": {
        "id": "3jxwY5aH2FqF"
      },
      "source": [
        "#workclass='Federal-gov'\n",
        "#workclass='Local-gov'"
      ],
      "execution_count": null,
      "outputs": []
    },
    {
      "cell_type": "code",
      "metadata": {
        "id": "bYFiwFD_2FqG",
        "outputId": "2ddcad58-b7cb-43bc-a8fc-2c2983683133"
      },
      "source": [
        "dist_data = pd.concat([data[data.greater_than_50k == 1].groupby('workclass').workclass.count()\n",
        "                          , data[data.greater_than_50k == 0].groupby('workclass').workclass.count()], axis=1)\n",
        "\n",
        "dist_data.columns = ['wk_class_gt50','wk_class_lt50']\n",
        "\n",
        "dist_data"
      ],
      "execution_count": null,
      "outputs": [
        {
          "output_type": "stream",
          "text": [
            "D:\\Anaconda3\\lib\\site-packages\\ipykernel_launcher.py:2: FutureWarning: Sorting because non-concatenation axis is not aligned. A future version\n",
            "of pandas will change to not sort by default.\n",
            "\n",
            "To accept the future behavior, pass 'sort=False'.\n",
            "\n",
            "To retain the current behavior and silence the warning, pass 'sort=True'.\n",
            "\n",
            "  \n"
          ],
          "name": "stderr"
        },
        {
          "output_type": "execute_result",
          "data": {
            "text/html": [
              "<div>\n",
              "<style scoped>\n",
              "    .dataframe tbody tr th:only-of-type {\n",
              "        vertical-align: middle;\n",
              "    }\n",
              "\n",
              "    .dataframe tbody tr th {\n",
              "        vertical-align: top;\n",
              "    }\n",
              "\n",
              "    .dataframe thead th {\n",
              "        text-align: right;\n",
              "    }\n",
              "</style>\n",
              "<table border=\"1\" class=\"dataframe\">\n",
              "  <thead>\n",
              "    <tr style=\"text-align: right;\">\n",
              "      <th></th>\n",
              "      <th>wk_class_gt50</th>\n",
              "      <th>wk_class_lt50</th>\n",
              "    </tr>\n",
              "  </thead>\n",
              "  <tbody>\n",
              "    <tr>\n",
              "      <th>Federal-gov</th>\n",
              "      <td>371.0</td>\n",
              "      <td>589</td>\n",
              "    </tr>\n",
              "    <tr>\n",
              "      <th>Local-gov</th>\n",
              "      <td>617.0</td>\n",
              "      <td>1476</td>\n",
              "    </tr>\n",
              "    <tr>\n",
              "      <th>Never-worked</th>\n",
              "      <td>NaN</td>\n",
              "      <td>7</td>\n",
              "    </tr>\n",
              "    <tr>\n",
              "      <th>Private</th>\n",
              "      <td>4963.0</td>\n",
              "      <td>17732</td>\n",
              "    </tr>\n",
              "    <tr>\n",
              "      <th>Self-emp-inc</th>\n",
              "      <td>622.0</td>\n",
              "      <td>494</td>\n",
              "    </tr>\n",
              "    <tr>\n",
              "      <th>Self-emp-not-inc</th>\n",
              "      <td>724.0</td>\n",
              "      <td>1817</td>\n",
              "    </tr>\n",
              "    <tr>\n",
              "      <th>State-gov</th>\n",
              "      <td>353.0</td>\n",
              "      <td>945</td>\n",
              "    </tr>\n",
              "    <tr>\n",
              "      <th>Without-pay</th>\n",
              "      <td>NaN</td>\n",
              "      <td>14</td>\n",
              "    </tr>\n",
              "  </tbody>\n",
              "</table>\n",
              "</div>"
            ],
            "text/plain": [
              "                   wk_class_gt50  wk_class_lt50\n",
              " Federal-gov               371.0            589\n",
              " Local-gov                 617.0           1476\n",
              " Never-worked                NaN              7\n",
              " Private                  4963.0          17732\n",
              " Self-emp-inc              622.0            494\n",
              " Self-emp-not-inc          724.0           1817\n",
              " State-gov                 353.0            945\n",
              " Without-pay                 NaN             14"
            ]
          },
          "metadata": {
            "tags": []
          },
          "execution_count": 40
        }
      ]
    },
    {
      "cell_type": "code",
      "metadata": {
        "id": "RAxi4AmH2FqH",
        "outputId": "b4315b64-c1af-407a-9cb6-672bb72ce8c4"
      },
      "source": [
        "dist_data_final = dist_data.wk_class_gt50 / (dist_data.wk_class_lt50 + dist_data.wk_class_gt50 )\n",
        "dist_data_final"
      ],
      "execution_count": null,
      "outputs": [
        {
          "output_type": "execute_result",
          "data": {
            "text/plain": [
              " Federal-gov         0.386458\n",
              " Local-gov           0.294792\n",
              " Never-worked             NaN\n",
              " Private             0.218683\n",
              " Self-emp-inc        0.557348\n",
              " Self-emp-not-inc    0.284927\n",
              " State-gov           0.271957\n",
              " Without-pay              NaN\n",
              "dtype: float64"
            ]
          },
          "metadata": {
            "tags": []
          },
          "execution_count": 41
        }
      ]
    },
    {
      "cell_type": "code",
      "metadata": {
        "id": "oUTnouQM2FqI",
        "outputId": "b1fc57ea-f5cf-4a00-c564-db6290b49ee2"
      },
      "source": [
        "dist_data_final.sort_values(ascending=False)"
      ],
      "execution_count": null,
      "outputs": [
        {
          "output_type": "execute_result",
          "data": {
            "text/plain": [
              " Self-emp-inc        0.557348\n",
              " Federal-gov         0.386458\n",
              " Local-gov           0.294792\n",
              " Self-emp-not-inc    0.284927\n",
              " State-gov           0.271957\n",
              " Private             0.218683\n",
              " Never-worked             NaN\n",
              " Without-pay              NaN\n",
              "dtype: float64"
            ]
          },
          "metadata": {
            "tags": []
          },
          "execution_count": 42
        }
      ]
    },
    {
      "cell_type": "code",
      "metadata": {
        "id": "20fe3u3Y2FqI",
        "outputId": "90a5d185-9e4c-41e0-cbd7-b4a51230c2af"
      },
      "source": [
        "plt.figure(figsize=(10,5))\n",
        "ax = dist_data_final.plot(kind = 'bar', color = 'r', y='Percentage')\n",
        "ax.set_xticklabels(dist_data_final.index, rotation=30, fontsize=8, ha='right')\n",
        "ax.set_xlabel('Clase trabajadora')\n",
        "ax.set_ylabel('% de personas')"
      ],
      "execution_count": null,
      "outputs": [
        {
          "output_type": "execute_result",
          "data": {
            "text/plain": [
              "Text(0, 0.5, '% de personas')"
            ]
          },
          "metadata": {
            "tags": []
          },
          "execution_count": 43
        },
        {
          "output_type": "display_data",
          "data": {
            "image/png": "[encoded data removed]",
            "text/plain": [
              "<Figure size 720x360 with 1 Axes>"
            ]
          },
          "metadata": {
            "tags": []
          }
        }
      ]
    },
    {
      "cell_type": "markdown",
      "metadata": {
        "id": "CL2772Z22FqJ"
      },
      "source": [
        "Personas laboralmente independientes con empresa son los que ganan más, seguidos por los empleados de gobiernos federales."
      ]
    },
    {
      "cell_type": "markdown",
      "metadata": {
        "id": "8ydyosO42FqK"
      },
      "source": [
        "<strong>Hipótesis 3: Personas con más educación ganan más</strong>"
      ]
    },
    {
      "cell_type": "code",
      "metadata": {
        "id": "8nrne3QA2FqK",
        "outputId": "0b9f2f52-62c6-4af2-8baa-bd7232fa16a3"
      },
      "source": [
        "dist_data = pd.concat([data[data.greater_than_50k == 1].groupby('education').education.count()\n",
        "                          , data[data.greater_than_50k == 0].groupby('education').education.count()], axis=1)\n",
        "\n",
        "dist_data.columns = ['education_gt50','education_lt50']\n",
        "\n",
        "dist_data_final = dist_data.education_gt50 / (dist_data.education_gt50 + dist_data.education_lt50 )\n",
        "\n",
        "#dist_data_final.sort(ascending = False)\n",
        "ax =dist_data_final.plot(kind = 'bar', color = 'r')\n",
        "ax.set_xticklabels(dist_data_final.index, rotation=30, fontsize=8, ha='right')\n",
        "ax.set_xlabel('Nivel de Educación')\n",
        "ax.set_ylabel('% de Personas')"
      ],
      "execution_count": null,
      "outputs": [
        {
          "output_type": "stream",
          "text": [
            "D:\\Anaconda3\\lib\\site-packages\\ipykernel_launcher.py:2: FutureWarning: Sorting because non-concatenation axis is not aligned. A future version\n",
            "of pandas will change to not sort by default.\n",
            "\n",
            "To accept the future behavior, pass 'sort=False'.\n",
            "\n",
            "To retain the current behavior and silence the warning, pass 'sort=True'.\n",
            "\n",
            "  \n"
          ],
          "name": "stderr"
        },
        {
          "output_type": "execute_result",
          "data": {
            "text/plain": [
              "Text(0, 0.5, '% de Personas')"
            ]
          },
          "metadata": {
            "tags": []
          },
          "execution_count": 44
        },
        {
          "output_type": "display_data",
          "data": {
            "image/png": "[encoded data removed]",
            "text/plain": [
              "<Figure size 432x288 with 1 Axes>"
            ]
          },
          "metadata": {
            "tags": []
          }
        }
      ]
    },
    {
      "cell_type": "markdown",
      "metadata": {
        "id": "knBpZTTc2FqL"
      },
      "source": [
        "A mayor educación, mayores ingresos."
      ]
    },
    {
      "cell_type": "markdown",
      "metadata": {
        "id": "sgAgzZ0c2FqM"
      },
      "source": [
        "<strong>Hipótesis 4: Las personas casadas suelen ganar más</strong>"
      ]
    },
    {
      "cell_type": "code",
      "metadata": {
        "id": "N0kXidgq2FqM",
        "outputId": "87e88745-fc78-413a-9e87-bb24f79d7f76"
      },
      "source": [
        "dist_data = pd.concat([data[data.greater_than_50k == 1].groupby('marital_status').marital_status.count()\n",
        "                          , data[data.greater_than_50k == 0].groupby('marital_status').marital_status.count()], axis=1)\n",
        "\n",
        "dist_data.columns = ['marital_status_gt50','marital_status_lt50']\n",
        "\n",
        "dist_data_final = dist_data.marital_status_gt50 / (dist_data.marital_status_gt50 + dist_data.marital_status_lt50 )\n",
        "\n",
        "ax = dist_data_final.plot(kind = 'bar', color = 'r')\n",
        "ax.set_xticklabels(dist_data_final.index, rotation=30, fontsize=8, ha='right')\n",
        "ax.set_xlabel('Estado Civil')\n",
        "ax.set_ylabel('% de personas')"
      ],
      "execution_count": null,
      "outputs": [
        {
          "output_type": "execute_result",
          "data": {
            "text/plain": [
              "Text(0, 0.5, '% de personas')"
            ]
          },
          "metadata": {
            "tags": []
          },
          "execution_count": 45
        },
        {
          "output_type": "display_data",
          "data": {
            "image/png": "[encoded data removed]",
            "text/plain": [
              "<Figure size 432x288 with 1 Axes>"
            ]
          },
          "metadata": {
            "tags": []
          }
        }
      ]
    },
    {
      "cell_type": "markdown",
      "metadata": {
        "id": "NxnKRYxp2FqP"
      },
      "source": [
        "Las personas casadas tienden a ganar más."
      ]
    },
    {
      "cell_type": "markdown",
      "metadata": {
        "id": "wiodoQVT2FqQ"
      },
      "source": [
        "<strong>Hipótesis 5: Los ingresos dependen de la ocupación </strong>"
      ]
    },
    {
      "cell_type": "code",
      "metadata": {
        "id": "4txWEv6U2FqQ",
        "outputId": "7d00fe8f-f540-42cb-cba3-38462b917314"
      },
      "source": [
        "dist_data = pd.concat([data[data.greater_than_50k == 1].groupby('occupation').occupation.count()\n",
        "                          , data[data.greater_than_50k == 0].groupby('occupation').occupation.count()], axis=1)\n",
        "\n",
        "dist_data.columns = ['occupation_gt50','occupation_lt50']\n",
        "\n",
        "dist_data_final = dist_data.occupation_gt50 / (dist_data.occupation_gt50 + dist_data.occupation_lt50 )\n",
        "\n",
        "ax = dist_data_final.plot(kind = 'bar', color = 'r')\n",
        "\n",
        "ax.set_xticklabels(dist_data_final.index, rotation=30, fontsize=8, ha='right')\n",
        "ax.set_xlabel('Ocupación')\n",
        "ax.set_ylabel('% de Personas')"
      ],
      "execution_count": null,
      "outputs": [
        {
          "output_type": "execute_result",
          "data": {
            "text/plain": [
              "Text(0, 0.5, '% de Personas')"
            ]
          },
          "metadata": {
            "tags": []
          },
          "execution_count": 46
        },
        {
          "output_type": "display_data",
          "data": {
            "image/png": "[encoded data removed]",
            "text/plain": [
              "<Figure size 432x288 with 1 Axes>"
            ]
          },
          "metadata": {
            "tags": []
          }
        }
      ]
    },
    {
      "cell_type": "markdown",
      "metadata": {
        "id": "WPoukpJf2FqS"
      },
      "source": [
        "<strong>Hipótesis 6: Hombres ganan más</strong>"
      ]
    },
    {
      "cell_type": "code",
      "metadata": {
        "id": "5tU139Lx2FqS",
        "outputId": "2fff945d-2b69-4a71-b838-b550a5e93c11"
      },
      "source": [
        "dist_data = pd.concat([data[data.greater_than_50k == 1].groupby('gender').gender.count()\n",
        "                          , data[data.greater_than_50k == 0].groupby('gender').gender.count()], axis=1)\n",
        "\n",
        "dist_data.columns = ['gender_gt50','gender_lt50']\n",
        "\n",
        "dist_data_final = dist_data.gender_gt50 / (dist_data.gender_gt50 + dist_data.gender_lt50 )\n",
        "\n",
        "ax = dist_data_final.plot(kind = 'bar', color = 'r')\n",
        "\n",
        "ax.set_xticklabels(dist_data_final.index, rotation=30, fontsize=8, ha='right')\n",
        "ax.set_xlabel('Género')\n",
        "ax.set_ylabel('% de Personas')"
      ],
      "execution_count": null,
      "outputs": [
        {
          "output_type": "execute_result",
          "data": {
            "text/plain": [
              "Text(0, 0.5, '% de Personas')"
            ]
          },
          "metadata": {
            "tags": []
          },
          "execution_count": 47
        },
        {
          "output_type": "display_data",
          "data": {
            "image/png": "[encoded data removed]",
            "text/plain": [
              "<Figure size 432x288 with 1 Axes>"
            ]
          },
          "metadata": {
            "tags": []
          }
        }
      ]
    },
    {
      "cell_type": "markdown",
      "metadata": {
        "id": "K5S9fCie2FqT"
      },
      "source": [
        "<strong>Hipótesis 9: Ingresos por país de origen</strong>"
      ]
    },
    {
      "cell_type": "code",
      "metadata": {
        "id": "d65l0aqR2FqU",
        "outputId": "3def2281-6f07-4548-e2bc-d3000bb637ca"
      },
      "source": [
        "plt.figure(figsize=(10,5))\n",
        "dist_data = pd.concat([data[data.greater_than_50k == 1].groupby('race').native_country.count()\n",
        "                          , data[data.greater_than_50k == 0].groupby('race').native_country.count()], axis=1)\n",
        "\n",
        "dist_data.columns = ['native_country_gt50','native_country_lt50']\n",
        "\n",
        "dist_data_final = dist_data.native_country_gt50 / (dist_data.native_country_gt50 + dist_data.native_country_lt50 )\n",
        "\n",
        "ax = dist_data_final.plot(kind = 'bar', color = 'r')\n",
        "\n",
        "ax.set_xticklabels(dist_data_final.index, rotation=40, fontsize=8, ha='right')\n",
        "ax.set_xlabel('País de Origen')\n",
        "ax.set_ylabel('% de Personas')"
      ],
      "execution_count": null,
      "outputs": [
        {
          "output_type": "execute_result",
          "data": {
            "text/plain": [
              "Text(0, 0.5, '% de Personas')"
            ]
          },
          "metadata": {
            "tags": []
          },
          "execution_count": 48
        },
        {
          "output_type": "display_data",
          "data": {
            "image/png": "[encoded data removed]",
            "text/plain": [
              "<Figure size 720x360 with 1 Axes>"
            ]
          },
          "metadata": {
            "tags": []
          }
        }
      ]
    },
    {
      "cell_type": "markdown",
      "metadata": {
        "id": "J27rsEg12FqV"
      },
      "source": [
        "Las personas de Francia, India, Iran y Taiwan son los de mayores ingresos."
      ]
    },
    {
      "cell_type": "markdown",
      "metadata": {
        "id": "VxiygiYh2FqW"
      },
      "source": [
        "## Decision Trees"
      ]
    },
    {
      "cell_type": "markdown",
      "metadata": {
        "id": "zf3TtwPs2FqX"
      },
      "source": [
        "Usaremos los árboles de decisión para entender el perfil de aquellos que ganan más de $50K anuales."
      ]
    },
    {
      "cell_type": "code",
      "metadata": {
        "id": "IJhR6g_H2FqX",
        "outputId": "133097bd-d543-4886-87cf-f6e08737b074"
      },
      "source": [
        "data.shape"
      ],
      "execution_count": null,
      "outputs": [
        {
          "output_type": "execute_result",
          "data": {
            "text/plain": [
              "(32560, 11)"
            ]
          },
          "metadata": {
            "tags": []
          },
          "execution_count": 49
        }
      ]
    },
    {
      "cell_type": "code",
      "metadata": {
        "scrolled": true,
        "id": "yI892YMF2FqY",
        "outputId": "3f02558a-da5a-4d10-8478-ef2ec994f8d9"
      },
      "source": [
        "data.columns"
      ],
      "execution_count": null,
      "outputs": [
        {
          "output_type": "execute_result",
          "data": {
            "text/plain": [
              "Index(['age', 'workclass', 'education', 'marital_status', 'occupation',\n",
              "       'relationship', 'race', 'gender', 'hours_per_week', 'native_country',\n",
              "       'greater_than_50k'],\n",
              "      dtype='object')"
            ]
          },
          "metadata": {
            "tags": []
          },
          "execution_count": 50
        }
      ]
    },
    {
      "cell_type": "code",
      "metadata": {
        "id": "b3-ip2rd2FqZ",
        "outputId": "65b2c7e6-5b18-4272-d0a8-68f7710f40c6"
      },
      "source": [
        "data.head()"
      ],
      "execution_count": null,
      "outputs": [
        {
          "output_type": "execute_result",
          "data": {
            "text/html": [
              "<div>\n",
              "<style scoped>\n",
              "    .dataframe tbody tr th:only-of-type {\n",
              "        vertical-align: middle;\n",
              "    }\n",
              "\n",
              "    .dataframe tbody tr th {\n",
              "        vertical-align: top;\n",
              "    }\n",
              "\n",
              "    .dataframe thead th {\n",
              "        text-align: right;\n",
              "    }\n",
              "</style>\n",
              "<table border=\"1\" class=\"dataframe\">\n",
              "  <thead>\n",
              "    <tr style=\"text-align: right;\">\n",
              "      <th></th>\n",
              "      <th>age</th>\n",
              "      <th>workclass</th>\n",
              "      <th>education</th>\n",
              "      <th>marital_status</th>\n",
              "      <th>occupation</th>\n",
              "      <th>relationship</th>\n",
              "      <th>race</th>\n",
              "      <th>gender</th>\n",
              "      <th>hours_per_week</th>\n",
              "      <th>native_country</th>\n",
              "      <th>greater_than_50k</th>\n",
              "    </tr>\n",
              "  </thead>\n",
              "  <tbody>\n",
              "    <tr>\n",
              "      <th>0</th>\n",
              "      <td>39</td>\n",
              "      <td>State-gov</td>\n",
              "      <td>Bachelors</td>\n",
              "      <td>Never-married</td>\n",
              "      <td>Adm-clerical</td>\n",
              "      <td>Not-in-family</td>\n",
              "      <td>White</td>\n",
              "      <td>Male</td>\n",
              "      <td>40</td>\n",
              "      <td>United-States</td>\n",
              "      <td>0</td>\n",
              "    </tr>\n",
              "    <tr>\n",
              "      <th>1</th>\n",
              "      <td>50</td>\n",
              "      <td>Self-emp-not-inc</td>\n",
              "      <td>Bachelors</td>\n",
              "      <td>Married-civ-spouse</td>\n",
              "      <td>Exec-managerial</td>\n",
              "      <td>Husband</td>\n",
              "      <td>White</td>\n",
              "      <td>Male</td>\n",
              "      <td>13</td>\n",
              "      <td>United-States</td>\n",
              "      <td>0</td>\n",
              "    </tr>\n",
              "    <tr>\n",
              "      <th>2</th>\n",
              "      <td>38</td>\n",
              "      <td>Private</td>\n",
              "      <td>HS-grad</td>\n",
              "      <td>Divorced</td>\n",
              "      <td>Handlers-cleaners</td>\n",
              "      <td>Not-in-family</td>\n",
              "      <td>White</td>\n",
              "      <td>Male</td>\n",
              "      <td>40</td>\n",
              "      <td>United-States</td>\n",
              "      <td>0</td>\n",
              "    </tr>\n",
              "    <tr>\n",
              "      <th>3</th>\n",
              "      <td>53</td>\n",
              "      <td>Private</td>\n",
              "      <td>11th</td>\n",
              "      <td>Married-civ-spouse</td>\n",
              "      <td>Handlers-cleaners</td>\n",
              "      <td>Husband</td>\n",
              "      <td>Black</td>\n",
              "      <td>Male</td>\n",
              "      <td>40</td>\n",
              "      <td>United-States</td>\n",
              "      <td>0</td>\n",
              "    </tr>\n",
              "    <tr>\n",
              "      <th>4</th>\n",
              "      <td>28</td>\n",
              "      <td>Private</td>\n",
              "      <td>Bachelors</td>\n",
              "      <td>Married-civ-spouse</td>\n",
              "      <td>Prof-specialty</td>\n",
              "      <td>Wife</td>\n",
              "      <td>Black</td>\n",
              "      <td>Female</td>\n",
              "      <td>40</td>\n",
              "      <td>Cuba</td>\n",
              "      <td>0</td>\n",
              "    </tr>\n",
              "  </tbody>\n",
              "</table>\n",
              "</div>"
            ],
            "text/plain": [
              "   age          workclass   education       marital_status  \\\n",
              "0   39          State-gov   Bachelors        Never-married   \n",
              "1   50   Self-emp-not-inc   Bachelors   Married-civ-spouse   \n",
              "2   38            Private     HS-grad             Divorced   \n",
              "3   53            Private        11th   Married-civ-spouse   \n",
              "4   28            Private   Bachelors   Married-civ-spouse   \n",
              "\n",
              "           occupation    relationship    race   gender  hours_per_week  \\\n",
              "0        Adm-clerical   Not-in-family   White     Male              40   \n",
              "1     Exec-managerial         Husband   White     Male              13   \n",
              "2   Handlers-cleaners   Not-in-family   White     Male              40   \n",
              "3   Handlers-cleaners         Husband   Black     Male              40   \n",
              "4      Prof-specialty            Wife   Black   Female              40   \n",
              "\n",
              "   native_country  greater_than_50k  \n",
              "0   United-States                 0  \n",
              "1   United-States                 0  \n",
              "2   United-States                 0  \n",
              "3   United-States                 0  \n",
              "4            Cuba                 0  "
            ]
          },
          "metadata": {
            "tags": []
          },
          "execution_count": 51
        }
      ]
    },
    {
      "cell_type": "code",
      "metadata": {
        "id": "OzOsXIXD2Fqa",
        "outputId": "aec820d4-926c-4c0f-8f80-2614da726fef"
      },
      "source": [
        "data.groupby('workclass').workclass.count()"
      ],
      "execution_count": null,
      "outputs": [
        {
          "output_type": "execute_result",
          "data": {
            "text/plain": [
              "workclass\n",
              " Federal-gov           960\n",
              " Local-gov            2093\n",
              " Never-worked            7\n",
              " Private             22695\n",
              " Self-emp-inc         1116\n",
              " Self-emp-not-inc     2541\n",
              " State-gov            1298\n",
              " Without-pay            14\n",
              "Name: workclass, dtype: int64"
            ]
          },
          "metadata": {
            "tags": []
          },
          "execution_count": 52
        }
      ]
    },
    {
      "cell_type": "code",
      "metadata": {
        "id": "_CAjoWO02Fqa",
        "outputId": "023c6384-b758-43c6-94c8-f7a32bb3d314"
      },
      "source": [
        "# create a DataFrame of dummy variables for workclass\n",
        "workclass_dummies = pd.get_dummies(data.workclass, prefix='Wkc_')\n",
        "workclass_dummies.head()"
      ],
      "execution_count": null,
      "outputs": [
        {
          "output_type": "execute_result",
          "data": {
            "text/html": [
              "<div>\n",
              "<style scoped>\n",
              "    .dataframe tbody tr th:only-of-type {\n",
              "        vertical-align: middle;\n",
              "    }\n",
              "\n",
              "    .dataframe tbody tr th {\n",
              "        vertical-align: top;\n",
              "    }\n",
              "\n",
              "    .dataframe thead th {\n",
              "        text-align: right;\n",
              "    }\n",
              "</style>\n",
              "<table border=\"1\" class=\"dataframe\">\n",
              "  <thead>\n",
              "    <tr style=\"text-align: right;\">\n",
              "      <th></th>\n",
              "      <th>Wkc__ Federal-gov</th>\n",
              "      <th>Wkc__ Local-gov</th>\n",
              "      <th>Wkc__ Never-worked</th>\n",
              "      <th>Wkc__ Private</th>\n",
              "      <th>Wkc__ Self-emp-inc</th>\n",
              "      <th>Wkc__ Self-emp-not-inc</th>\n",
              "      <th>Wkc__ State-gov</th>\n",
              "      <th>Wkc__ Without-pay</th>\n",
              "    </tr>\n",
              "  </thead>\n",
              "  <tbody>\n",
              "    <tr>\n",
              "      <th>0</th>\n",
              "      <td>0</td>\n",
              "      <td>0</td>\n",
              "      <td>0</td>\n",
              "      <td>0</td>\n",
              "      <td>0</td>\n",
              "      <td>0</td>\n",
              "      <td>1</td>\n",
              "      <td>0</td>\n",
              "    </tr>\n",
              "    <tr>\n",
              "      <th>1</th>\n",
              "      <td>0</td>\n",
              "      <td>0</td>\n",
              "      <td>0</td>\n",
              "      <td>0</td>\n",
              "      <td>0</td>\n",
              "      <td>1</td>\n",
              "      <td>0</td>\n",
              "      <td>0</td>\n",
              "    </tr>\n",
              "    <tr>\n",
              "      <th>2</th>\n",
              "      <td>0</td>\n",
              "      <td>0</td>\n",
              "      <td>0</td>\n",
              "      <td>1</td>\n",
              "      <td>0</td>\n",
              "      <td>0</td>\n",
              "      <td>0</td>\n",
              "      <td>0</td>\n",
              "    </tr>\n",
              "    <tr>\n",
              "      <th>3</th>\n",
              "      <td>0</td>\n",
              "      <td>0</td>\n",
              "      <td>0</td>\n",
              "      <td>1</td>\n",
              "      <td>0</td>\n",
              "      <td>0</td>\n",
              "      <td>0</td>\n",
              "      <td>0</td>\n",
              "    </tr>\n",
              "    <tr>\n",
              "      <th>4</th>\n",
              "      <td>0</td>\n",
              "      <td>0</td>\n",
              "      <td>0</td>\n",
              "      <td>1</td>\n",
              "      <td>0</td>\n",
              "      <td>0</td>\n",
              "      <td>0</td>\n",
              "      <td>0</td>\n",
              "    </tr>\n",
              "  </tbody>\n",
              "</table>\n",
              "</div>"
            ],
            "text/plain": [
              "   Wkc__ Federal-gov  Wkc__ Local-gov  Wkc__ Never-worked  Wkc__ Private  \\\n",
              "0                  0                0                   0              0   \n",
              "1                  0                0                   0              0   \n",
              "2                  0                0                   0              1   \n",
              "3                  0                0                   0              1   \n",
              "4                  0                0                   0              1   \n",
              "\n",
              "   Wkc__ Self-emp-inc  Wkc__ Self-emp-not-inc  Wkc__ State-gov  \\\n",
              "0                   0                       0                1   \n",
              "1                   0                       1                0   \n",
              "2                   0                       0                0   \n",
              "3                   0                       0                0   \n",
              "4                   0                       0                0   \n",
              "\n",
              "   Wkc__ Without-pay  \n",
              "0                  0  \n",
              "1                  0  \n",
              "2                  0  \n",
              "3                  0  \n",
              "4                  0  "
            ]
          },
          "metadata": {
            "tags": []
          },
          "execution_count": 53
        }
      ]
    },
    {
      "cell_type": "code",
      "metadata": {
        "id": "XdgmNLEG2Fqb",
        "outputId": "0d693393-c15e-4802-9894-891fd8c772b7"
      },
      "source": [
        "workclass_dummies.drop(workclass_dummies.columns[0],axis=1,inplace=True)\n",
        "workclass_dummies.head()"
      ],
      "execution_count": null,
      "outputs": [
        {
          "output_type": "execute_result",
          "data": {
            "text/html": [
              "<div>\n",
              "<style scoped>\n",
              "    .dataframe tbody tr th:only-of-type {\n",
              "        vertical-align: middle;\n",
              "    }\n",
              "\n",
              "    .dataframe tbody tr th {\n",
              "        vertical-align: top;\n",
              "    }\n",
              "\n",
              "    .dataframe thead th {\n",
              "        text-align: right;\n",
              "    }\n",
              "</style>\n",
              "<table border=\"1\" class=\"dataframe\">\n",
              "  <thead>\n",
              "    <tr style=\"text-align: right;\">\n",
              "      <th></th>\n",
              "      <th>Wkc__ Local-gov</th>\n",
              "      <th>Wkc__ Never-worked</th>\n",
              "      <th>Wkc__ Private</th>\n",
              "      <th>Wkc__ Self-emp-inc</th>\n",
              "      <th>Wkc__ Self-emp-not-inc</th>\n",
              "      <th>Wkc__ State-gov</th>\n",
              "      <th>Wkc__ Without-pay</th>\n",
              "    </tr>\n",
              "  </thead>\n",
              "  <tbody>\n",
              "    <tr>\n",
              "      <th>0</th>\n",
              "      <td>0</td>\n",
              "      <td>0</td>\n",
              "      <td>0</td>\n",
              "      <td>0</td>\n",
              "      <td>0</td>\n",
              "      <td>1</td>\n",
              "      <td>0</td>\n",
              "    </tr>\n",
              "    <tr>\n",
              "      <th>1</th>\n",
              "      <td>0</td>\n",
              "      <td>0</td>\n",
              "      <td>0</td>\n",
              "      <td>0</td>\n",
              "      <td>1</td>\n",
              "      <td>0</td>\n",
              "      <td>0</td>\n",
              "    </tr>\n",
              "    <tr>\n",
              "      <th>2</th>\n",
              "      <td>0</td>\n",
              "      <td>0</td>\n",
              "      <td>1</td>\n",
              "      <td>0</td>\n",
              "      <td>0</td>\n",
              "      <td>0</td>\n",
              "      <td>0</td>\n",
              "    </tr>\n",
              "    <tr>\n",
              "      <th>3</th>\n",
              "      <td>0</td>\n",
              "      <td>0</td>\n",
              "      <td>1</td>\n",
              "      <td>0</td>\n",
              "      <td>0</td>\n",
              "      <td>0</td>\n",
              "      <td>0</td>\n",
              "    </tr>\n",
              "    <tr>\n",
              "      <th>4</th>\n",
              "      <td>0</td>\n",
              "      <td>0</td>\n",
              "      <td>1</td>\n",
              "      <td>0</td>\n",
              "      <td>0</td>\n",
              "      <td>0</td>\n",
              "      <td>0</td>\n",
              "    </tr>\n",
              "  </tbody>\n",
              "</table>\n",
              "</div>"
            ],
            "text/plain": [
              "   Wkc__ Local-gov  Wkc__ Never-worked  Wkc__ Private  Wkc__ Self-emp-inc  \\\n",
              "0                0                   0              0                   0   \n",
              "1                0                   0              0                   0   \n",
              "2                0                   0              1                   0   \n",
              "3                0                   0              1                   0   \n",
              "4                0                   0              1                   0   \n",
              "\n",
              "   Wkc__ Self-emp-not-inc  Wkc__ State-gov  Wkc__ Without-pay  \n",
              "0                       0                1                  0  \n",
              "1                       1                0                  0  \n",
              "2                       0                0                  0  \n",
              "3                       0                0                  0  \n",
              "4                       0                0                  0  "
            ]
          },
          "metadata": {
            "tags": []
          },
          "execution_count": 54
        }
      ]
    },
    {
      "cell_type": "code",
      "metadata": {
        "scrolled": true,
        "id": "RJwGiVW-2Fqc",
        "outputId": "cc762a2e-b007-4bf3-b115-6af422f5a624"
      },
      "source": [
        "# concatenate the original DataFrame and the dummy DataFrame\n",
        "data_census0 = pd.concat([data,workclass_dummies], axis=1)\n",
        "data_census0.head()"
      ],
      "execution_count": null,
      "outputs": [
        {
          "output_type": "execute_result",
          "data": {
            "text/html": [
              "<div>\n",
              "<style scoped>\n",
              "    .dataframe tbody tr th:only-of-type {\n",
              "        vertical-align: middle;\n",
              "    }\n",
              "\n",
              "    .dataframe tbody tr th {\n",
              "        vertical-align: top;\n",
              "    }\n",
              "\n",
              "    .dataframe thead th {\n",
              "        text-align: right;\n",
              "    }\n",
              "</style>\n",
              "<table border=\"1\" class=\"dataframe\">\n",
              "  <thead>\n",
              "    <tr style=\"text-align: right;\">\n",
              "      <th></th>\n",
              "      <th>age</th>\n",
              "      <th>workclass</th>\n",
              "      <th>education</th>\n",
              "      <th>marital_status</th>\n",
              "      <th>occupation</th>\n",
              "      <th>relationship</th>\n",
              "      <th>race</th>\n",
              "      <th>gender</th>\n",
              "      <th>hours_per_week</th>\n",
              "      <th>native_country</th>\n",
              "      <th>greater_than_50k</th>\n",
              "      <th>Wkc__ Local-gov</th>\n",
              "      <th>Wkc__ Never-worked</th>\n",
              "      <th>Wkc__ Private</th>\n",
              "      <th>Wkc__ Self-emp-inc</th>\n",
              "      <th>Wkc__ Self-emp-not-inc</th>\n",
              "      <th>Wkc__ State-gov</th>\n",
              "      <th>Wkc__ Without-pay</th>\n",
              "    </tr>\n",
              "  </thead>\n",
              "  <tbody>\n",
              "    <tr>\n",
              "      <th>0</th>\n",
              "      <td>39</td>\n",
              "      <td>State-gov</td>\n",
              "      <td>Bachelors</td>\n",
              "      <td>Never-married</td>\n",
              "      <td>Adm-clerical</td>\n",
              "      <td>Not-in-family</td>\n",
              "      <td>White</td>\n",
              "      <td>Male</td>\n",
              "      <td>40</td>\n",
              "      <td>United-States</td>\n",
              "      <td>0</td>\n",
              "      <td>0</td>\n",
              "      <td>0</td>\n",
              "      <td>0</td>\n",
              "      <td>0</td>\n",
              "      <td>0</td>\n",
              "      <td>1</td>\n",
              "      <td>0</td>\n",
              "    </tr>\n",
              "    <tr>\n",
              "      <th>1</th>\n",
              "      <td>50</td>\n",
              "      <td>Self-emp-not-inc</td>\n",
              "      <td>Bachelors</td>\n",
              "      <td>Married-civ-spouse</td>\n",
              "      <td>Exec-managerial</td>\n",
              "      <td>Husband</td>\n",
              "      <td>White</td>\n",
              "      <td>Male</td>\n",
              "      <td>13</td>\n",
              "      <td>United-States</td>\n",
              "      <td>0</td>\n",
              "      <td>0</td>\n",
              "      <td>0</td>\n",
              "      <td>0</td>\n",
              "      <td>0</td>\n",
              "      <td>1</td>\n",
              "      <td>0</td>\n",
              "      <td>0</td>\n",
              "    </tr>\n",
              "    <tr>\n",
              "      <th>2</th>\n",
              "      <td>38</td>\n",
              "      <td>Private</td>\n",
              "      <td>HS-grad</td>\n",
              "      <td>Divorced</td>\n",
              "      <td>Handlers-cleaners</td>\n",
              "      <td>Not-in-family</td>\n",
              "      <td>White</td>\n",
              "      <td>Male</td>\n",
              "      <td>40</td>\n",
              "      <td>United-States</td>\n",
              "      <td>0</td>\n",
              "      <td>0</td>\n",
              "      <td>0</td>\n",
              "      <td>1</td>\n",
              "      <td>0</td>\n",
              "      <td>0</td>\n",
              "      <td>0</td>\n",
              "      <td>0</td>\n",
              "    </tr>\n",
              "    <tr>\n",
              "      <th>3</th>\n",
              "      <td>53</td>\n",
              "      <td>Private</td>\n",
              "      <td>11th</td>\n",
              "      <td>Married-civ-spouse</td>\n",
              "      <td>Handlers-cleaners</td>\n",
              "      <td>Husband</td>\n",
              "      <td>Black</td>\n",
              "      <td>Male</td>\n",
              "      <td>40</td>\n",
              "      <td>United-States</td>\n",
              "      <td>0</td>\n",
              "      <td>0</td>\n",
              "      <td>0</td>\n",
              "      <td>1</td>\n",
              "      <td>0</td>\n",
              "      <td>0</td>\n",
              "      <td>0</td>\n",
              "      <td>0</td>\n",
              "    </tr>\n",
              "    <tr>\n",
              "      <th>4</th>\n",
              "      <td>28</td>\n",
              "      <td>Private</td>\n",
              "      <td>Bachelors</td>\n",
              "      <td>Married-civ-spouse</td>\n",
              "      <td>Prof-specialty</td>\n",
              "      <td>Wife</td>\n",
              "      <td>Black</td>\n",
              "      <td>Female</td>\n",
              "      <td>40</td>\n",
              "      <td>Cuba</td>\n",
              "      <td>0</td>\n",
              "      <td>0</td>\n",
              "      <td>0</td>\n",
              "      <td>1</td>\n",
              "      <td>0</td>\n",
              "      <td>0</td>\n",
              "      <td>0</td>\n",
              "      <td>0</td>\n",
              "    </tr>\n",
              "  </tbody>\n",
              "</table>\n",
              "</div>"
            ],
            "text/plain": [
              "   age          workclass   education       marital_status  \\\n",
              "0   39          State-gov   Bachelors        Never-married   \n",
              "1   50   Self-emp-not-inc   Bachelors   Married-civ-spouse   \n",
              "2   38            Private     HS-grad             Divorced   \n",
              "3   53            Private        11th   Married-civ-spouse   \n",
              "4   28            Private   Bachelors   Married-civ-spouse   \n",
              "\n",
              "           occupation    relationship    race   gender  hours_per_week  \\\n",
              "0        Adm-clerical   Not-in-family   White     Male              40   \n",
              "1     Exec-managerial         Husband   White     Male              13   \n",
              "2   Handlers-cleaners   Not-in-family   White     Male              40   \n",
              "3   Handlers-cleaners         Husband   Black     Male              40   \n",
              "4      Prof-specialty            Wife   Black   Female              40   \n",
              "\n",
              "   native_country  greater_than_50k  Wkc__ Local-gov  Wkc__ Never-worked  \\\n",
              "0   United-States                 0                0                   0   \n",
              "1   United-States                 0                0                   0   \n",
              "2   United-States                 0                0                   0   \n",
              "3   United-States                 0                0                   0   \n",
              "4            Cuba                 0                0                   0   \n",
              "\n",
              "   Wkc__ Private  Wkc__ Self-emp-inc  Wkc__ Self-emp-not-inc  Wkc__ State-gov  \\\n",
              "0              0                   0                       0                1   \n",
              "1              0                   0                       1                0   \n",
              "2              1                   0                       0                0   \n",
              "3              1                   0                       0                0   \n",
              "4              1                   0                       0                0   \n",
              "\n",
              "   Wkc__ Without-pay  \n",
              "0                  0  \n",
              "1                  0  \n",
              "2                  0  \n",
              "3                  0  \n",
              "4                  0  "
            ]
          },
          "metadata": {
            "tags": []
          },
          "execution_count": 55
        }
      ]
    },
    {
      "cell_type": "code",
      "metadata": {
        "id": "SsrFPdhh2Fqd",
        "outputId": "6097cbbf-0f99-4a0f-9317-8b239a8cd905"
      },
      "source": [
        "# create a DataFrame of dummy variables for education\n",
        "educ_dummies = pd.get_dummies(data.education, prefix='educ_')\n",
        "educ_dummies.drop(educ_dummies.columns[0],axis=1,inplace=True)\n",
        "educ_dummies.head()"
      ],
      "execution_count": null,
      "outputs": [
        {
          "output_type": "execute_result",
          "data": {
            "text/html": [
              "<div>\n",
              "<style scoped>\n",
              "    .dataframe tbody tr th:only-of-type {\n",
              "        vertical-align: middle;\n",
              "    }\n",
              "\n",
              "    .dataframe tbody tr th {\n",
              "        vertical-align: top;\n",
              "    }\n",
              "\n",
              "    .dataframe thead th {\n",
              "        text-align: right;\n",
              "    }\n",
              "</style>\n",
              "<table border=\"1\" class=\"dataframe\">\n",
              "  <thead>\n",
              "    <tr style=\"text-align: right;\">\n",
              "      <th></th>\n",
              "      <th>educ__ 11th</th>\n",
              "      <th>educ__ 12th</th>\n",
              "      <th>educ__ 1st-4th</th>\n",
              "      <th>educ__ 5th-6th</th>\n",
              "      <th>educ__ 7th-8th</th>\n",
              "      <th>educ__ 9th</th>\n",
              "      <th>educ__ Assoc-acdm</th>\n",
              "      <th>educ__ Assoc-voc</th>\n",
              "      <th>educ__ Bachelors</th>\n",
              "      <th>educ__ Doctorate</th>\n",
              "      <th>educ__ HS-grad</th>\n",
              "      <th>educ__ Masters</th>\n",
              "      <th>educ__ Preschool</th>\n",
              "      <th>educ__ Prof-school</th>\n",
              "      <th>educ__ Some-college</th>\n",
              "    </tr>\n",
              "  </thead>\n",
              "  <tbody>\n",
              "    <tr>\n",
              "      <th>0</th>\n",
              "      <td>0</td>\n",
              "      <td>0</td>\n",
              "      <td>0</td>\n",
              "      <td>0</td>\n",
              "      <td>0</td>\n",
              "      <td>0</td>\n",
              "      <td>0</td>\n",
              "      <td>0</td>\n",
              "      <td>1</td>\n",
              "      <td>0</td>\n",
              "      <td>0</td>\n",
              "      <td>0</td>\n",
              "      <td>0</td>\n",
              "      <td>0</td>\n",
              "      <td>0</td>\n",
              "    </tr>\n",
              "    <tr>\n",
              "      <th>1</th>\n",
              "      <td>0</td>\n",
              "      <td>0</td>\n",
              "      <td>0</td>\n",
              "      <td>0</td>\n",
              "      <td>0</td>\n",
              "      <td>0</td>\n",
              "      <td>0</td>\n",
              "      <td>0</td>\n",
              "      <td>1</td>\n",
              "      <td>0</td>\n",
              "      <td>0</td>\n",
              "      <td>0</td>\n",
              "      <td>0</td>\n",
              "      <td>0</td>\n",
              "      <td>0</td>\n",
              "    </tr>\n",
              "    <tr>\n",
              "      <th>2</th>\n",
              "      <td>0</td>\n",
              "      <td>0</td>\n",
              "      <td>0</td>\n",
              "      <td>0</td>\n",
              "      <td>0</td>\n",
              "      <td>0</td>\n",
              "      <td>0</td>\n",
              "      <td>0</td>\n",
              "      <td>0</td>\n",
              "      <td>0</td>\n",
              "      <td>1</td>\n",
              "      <td>0</td>\n",
              "      <td>0</td>\n",
              "      <td>0</td>\n",
              "      <td>0</td>\n",
              "    </tr>\n",
              "    <tr>\n",
              "      <th>3</th>\n",
              "      <td>1</td>\n",
              "      <td>0</td>\n",
              "      <td>0</td>\n",
              "      <td>0</td>\n",
              "      <td>0</td>\n",
              "      <td>0</td>\n",
              "      <td>0</td>\n",
              "      <td>0</td>\n",
              "      <td>0</td>\n",
              "      <td>0</td>\n",
              "      <td>0</td>\n",
              "      <td>0</td>\n",
              "      <td>0</td>\n",
              "      <td>0</td>\n",
              "      <td>0</td>\n",
              "    </tr>\n",
              "    <tr>\n",
              "      <th>4</th>\n",
              "      <td>0</td>\n",
              "      <td>0</td>\n",
              "      <td>0</td>\n",
              "      <td>0</td>\n",
              "      <td>0</td>\n",
              "      <td>0</td>\n",
              "      <td>0</td>\n",
              "      <td>0</td>\n",
              "      <td>1</td>\n",
              "      <td>0</td>\n",
              "      <td>0</td>\n",
              "      <td>0</td>\n",
              "      <td>0</td>\n",
              "      <td>0</td>\n",
              "      <td>0</td>\n",
              "    </tr>\n",
              "  </tbody>\n",
              "</table>\n",
              "</div>"
            ],
            "text/plain": [
              "   educ__ 11th  educ__ 12th  educ__ 1st-4th  educ__ 5th-6th  educ__ 7th-8th  \\\n",
              "0            0            0               0               0               0   \n",
              "1            0            0               0               0               0   \n",
              "2            0            0               0               0               0   \n",
              "3            1            0               0               0               0   \n",
              "4            0            0               0               0               0   \n",
              "\n",
              "   educ__ 9th  educ__ Assoc-acdm  educ__ Assoc-voc  educ__ Bachelors  \\\n",
              "0           0                  0                 0                 1   \n",
              "1           0                  0                 0                 1   \n",
              "2           0                  0                 0                 0   \n",
              "3           0                  0                 0                 0   \n",
              "4           0                  0                 0                 1   \n",
              "\n",
              "   educ__ Doctorate  educ__ HS-grad  educ__ Masters  educ__ Preschool  \\\n",
              "0                 0               0               0                 0   \n",
              "1                 0               0               0                 0   \n",
              "2                 0               1               0                 0   \n",
              "3                 0               0               0                 0   \n",
              "4                 0               0               0                 0   \n",
              "\n",
              "   educ__ Prof-school  educ__ Some-college  \n",
              "0                   0                    0  \n",
              "1                   0                    0  \n",
              "2                   0                    0  \n",
              "3                   0                    0  \n",
              "4                   0                    0  "
            ]
          },
          "metadata": {
            "tags": []
          },
          "execution_count": 56
        }
      ]
    },
    {
      "cell_type": "code",
      "metadata": {
        "scrolled": true,
        "id": "oM_JvZ6H2Fqe",
        "outputId": "c4d26a7a-0656-4ad2-9b08-1d3433b4a7f0"
      },
      "source": [
        "# concatenate the original DataFrame and the dummy DataFrame\n",
        "data_census1 = pd.concat([data_census0,educ_dummies], axis=1)\n",
        "data_census1.head()"
      ],
      "execution_count": null,
      "outputs": [
        {
          "output_type": "execute_result",
          "data": {
            "text/html": [
              "<div>\n",
              "<style scoped>\n",
              "    .dataframe tbody tr th:only-of-type {\n",
              "        vertical-align: middle;\n",
              "    }\n",
              "\n",
              "    .dataframe tbody tr th {\n",
              "        vertical-align: top;\n",
              "    }\n",
              "\n",
              "    .dataframe thead th {\n",
              "        text-align: right;\n",
              "    }\n",
              "</style>\n",
              "<table border=\"1\" class=\"dataframe\">\n",
              "  <thead>\n",
              "    <tr style=\"text-align: right;\">\n",
              "      <th></th>\n",
              "      <th>age</th>\n",
              "      <th>workclass</th>\n",
              "      <th>education</th>\n",
              "      <th>marital_status</th>\n",
              "      <th>occupation</th>\n",
              "      <th>relationship</th>\n",
              "      <th>race</th>\n",
              "      <th>gender</th>\n",
              "      <th>hours_per_week</th>\n",
              "      <th>native_country</th>\n",
              "      <th>...</th>\n",
              "      <th>educ__ 9th</th>\n",
              "      <th>educ__ Assoc-acdm</th>\n",
              "      <th>educ__ Assoc-voc</th>\n",
              "      <th>educ__ Bachelors</th>\n",
              "      <th>educ__ Doctorate</th>\n",
              "      <th>educ__ HS-grad</th>\n",
              "      <th>educ__ Masters</th>\n",
              "      <th>educ__ Preschool</th>\n",
              "      <th>educ__ Prof-school</th>\n",
              "      <th>educ__ Some-college</th>\n",
              "    </tr>\n",
              "  </thead>\n",
              "  <tbody>\n",
              "    <tr>\n",
              "      <th>0</th>\n",
              "      <td>39</td>\n",
              "      <td>State-gov</td>\n",
              "      <td>Bachelors</td>\n",
              "      <td>Never-married</td>\n",
              "      <td>Adm-clerical</td>\n",
              "      <td>Not-in-family</td>\n",
              "      <td>White</td>\n",
              "      <td>Male</td>\n",
              "      <td>40</td>\n",
              "      <td>United-States</td>\n",
              "      <td>...</td>\n",
              "      <td>0</td>\n",
              "      <td>0</td>\n",
              "      <td>0</td>\n",
              "      <td>1</td>\n",
              "      <td>0</td>\n",
              "      <td>0</td>\n",
              "      <td>0</td>\n",
              "      <td>0</td>\n",
              "      <td>0</td>\n",
              "      <td>0</td>\n",
              "    </tr>\n",
              "    <tr>\n",
              "      <th>1</th>\n",
              "      <td>50</td>\n",
              "      <td>Self-emp-not-inc</td>\n",
              "      <td>Bachelors</td>\n",
              "      <td>Married-civ-spouse</td>\n",
              "      <td>Exec-managerial</td>\n",
              "      <td>Husband</td>\n",
              "      <td>White</td>\n",
              "      <td>Male</td>\n",
              "      <td>13</td>\n",
              "      <td>United-States</td>\n",
              "      <td>...</td>\n",
              "      <td>0</td>\n",
              "      <td>0</td>\n",
              "      <td>0</td>\n",
              "      <td>1</td>\n",
              "      <td>0</td>\n",
              "      <td>0</td>\n",
              "      <td>0</td>\n",
              "      <td>0</td>\n",
              "      <td>0</td>\n",
              "      <td>0</td>\n",
              "    </tr>\n",
              "    <tr>\n",
              "      <th>2</th>\n",
              "      <td>38</td>\n",
              "      <td>Private</td>\n",
              "      <td>HS-grad</td>\n",
              "      <td>Divorced</td>\n",
              "      <td>Handlers-cleaners</td>\n",
              "      <td>Not-in-family</td>\n",
              "      <td>White</td>\n",
              "      <td>Male</td>\n",
              "      <td>40</td>\n",
              "      <td>United-States</td>\n",
              "      <td>...</td>\n",
              "      <td>0</td>\n",
              "      <td>0</td>\n",
              "      <td>0</td>\n",
              "      <td>0</td>\n",
              "      <td>0</td>\n",
              "      <td>1</td>\n",
              "      <td>0</td>\n",
              "      <td>0</td>\n",
              "      <td>0</td>\n",
              "      <td>0</td>\n",
              "    </tr>\n",
              "    <tr>\n",
              "      <th>3</th>\n",
              "      <td>53</td>\n",
              "      <td>Private</td>\n",
              "      <td>11th</td>\n",
              "      <td>Married-civ-spouse</td>\n",
              "      <td>Handlers-cleaners</td>\n",
              "      <td>Husband</td>\n",
              "      <td>Black</td>\n",
              "      <td>Male</td>\n",
              "      <td>40</td>\n",
              "      <td>United-States</td>\n",
              "      <td>...</td>\n",
              "      <td>0</td>\n",
              "      <td>0</td>\n",
              "      <td>0</td>\n",
              "      <td>0</td>\n",
              "      <td>0</td>\n",
              "      <td>0</td>\n",
              "      <td>0</td>\n",
              "      <td>0</td>\n",
              "      <td>0</td>\n",
              "      <td>0</td>\n",
              "    </tr>\n",
              "    <tr>\n",
              "      <th>4</th>\n",
              "      <td>28</td>\n",
              "      <td>Private</td>\n",
              "      <td>Bachelors</td>\n",
              "      <td>Married-civ-spouse</td>\n",
              "      <td>Prof-specialty</td>\n",
              "      <td>Wife</td>\n",
              "      <td>Black</td>\n",
              "      <td>Female</td>\n",
              "      <td>40</td>\n",
              "      <td>Cuba</td>\n",
              "      <td>...</td>\n",
              "      <td>0</td>\n",
              "      <td>0</td>\n",
              "      <td>0</td>\n",
              "      <td>1</td>\n",
              "      <td>0</td>\n",
              "      <td>0</td>\n",
              "      <td>0</td>\n",
              "      <td>0</td>\n",
              "      <td>0</td>\n",
              "      <td>0</td>\n",
              "    </tr>\n",
              "  </tbody>\n",
              "</table>\n",
              "<p>5 rows × 33 columns</p>\n",
              "</div>"
            ],
            "text/plain": [
              "   age          workclass   education       marital_status  \\\n",
              "0   39          State-gov   Bachelors        Never-married   \n",
              "1   50   Self-emp-not-inc   Bachelors   Married-civ-spouse   \n",
              "2   38            Private     HS-grad             Divorced   \n",
              "3   53            Private        11th   Married-civ-spouse   \n",
              "4   28            Private   Bachelors   Married-civ-spouse   \n",
              "\n",
              "           occupation    relationship    race   gender  hours_per_week  \\\n",
              "0        Adm-clerical   Not-in-family   White     Male              40   \n",
              "1     Exec-managerial         Husband   White     Male              13   \n",
              "2   Handlers-cleaners   Not-in-family   White     Male              40   \n",
              "3   Handlers-cleaners         Husband   Black     Male              40   \n",
              "4      Prof-specialty            Wife   Black   Female              40   \n",
              "\n",
              "   native_country         ...           educ__ 9th  educ__ Assoc-acdm  \\\n",
              "0   United-States         ...                    0                  0   \n",
              "1   United-States         ...                    0                  0   \n",
              "2   United-States         ...                    0                  0   \n",
              "3   United-States         ...                    0                  0   \n",
              "4            Cuba         ...                    0                  0   \n",
              "\n",
              "   educ__ Assoc-voc  educ__ Bachelors  educ__ Doctorate  educ__ HS-grad  \\\n",
              "0                 0                 1                 0               0   \n",
              "1                 0                 1                 0               0   \n",
              "2                 0                 0                 0               1   \n",
              "3                 0                 0                 0               0   \n",
              "4                 0                 1                 0               0   \n",
              "\n",
              "   educ__ Masters  educ__ Preschool  educ__ Prof-school  educ__ Some-college  \n",
              "0               0                 0                   0                    0  \n",
              "1               0                 0                   0                    0  \n",
              "2               0                 0                   0                    0  \n",
              "3               0                 0                   0                    0  \n",
              "4               0                 0                   0                    0  \n",
              "\n",
              "[5 rows x 33 columns]"
            ]
          },
          "metadata": {
            "tags": []
          },
          "execution_count": 57
        }
      ]
    },
    {
      "cell_type": "code",
      "metadata": {
        "id": "Kh6kB6qC2Fqf",
        "outputId": "15e85e05-55c6-4d22-8bf1-b307961a3950"
      },
      "source": [
        "# create a DataFrame of dummy variables for marital_status\n",
        "ms_dummies = pd.get_dummies(data.marital_status, prefix='ms_')\n",
        "ms_dummies.drop(ms_dummies.columns[0],axis=1,inplace=True)\n",
        "ms_dummies.head()"
      ],
      "execution_count": null,
      "outputs": [
        {
          "output_type": "execute_result",
          "data": {
            "text/html": [
              "<div>\n",
              "<style scoped>\n",
              "    .dataframe tbody tr th:only-of-type {\n",
              "        vertical-align: middle;\n",
              "    }\n",
              "\n",
              "    .dataframe tbody tr th {\n",
              "        vertical-align: top;\n",
              "    }\n",
              "\n",
              "    .dataframe thead th {\n",
              "        text-align: right;\n",
              "    }\n",
              "</style>\n",
              "<table border=\"1\" class=\"dataframe\">\n",
              "  <thead>\n",
              "    <tr style=\"text-align: right;\">\n",
              "      <th></th>\n",
              "      <th>ms__ Married-AF-spouse</th>\n",
              "      <th>ms__ Married-civ-spouse</th>\n",
              "      <th>ms__ Married-spouse-absent</th>\n",
              "      <th>ms__ Never-married</th>\n",
              "      <th>ms__ Separated</th>\n",
              "      <th>ms__ Widowed</th>\n",
              "    </tr>\n",
              "  </thead>\n",
              "  <tbody>\n",
              "    <tr>\n",
              "      <th>0</th>\n",
              "      <td>0</td>\n",
              "      <td>0</td>\n",
              "      <td>0</td>\n",
              "      <td>1</td>\n",
              "      <td>0</td>\n",
              "      <td>0</td>\n",
              "    </tr>\n",
              "    <tr>\n",
              "      <th>1</th>\n",
              "      <td>0</td>\n",
              "      <td>1</td>\n",
              "      <td>0</td>\n",
              "      <td>0</td>\n",
              "      <td>0</td>\n",
              "      <td>0</td>\n",
              "    </tr>\n",
              "    <tr>\n",
              "      <th>2</th>\n",
              "      <td>0</td>\n",
              "      <td>0</td>\n",
              "      <td>0</td>\n",
              "      <td>0</td>\n",
              "      <td>0</td>\n",
              "      <td>0</td>\n",
              "    </tr>\n",
              "    <tr>\n",
              "      <th>3</th>\n",
              "      <td>0</td>\n",
              "      <td>1</td>\n",
              "      <td>0</td>\n",
              "      <td>0</td>\n",
              "      <td>0</td>\n",
              "      <td>0</td>\n",
              "    </tr>\n",
              "    <tr>\n",
              "      <th>4</th>\n",
              "      <td>0</td>\n",
              "      <td>1</td>\n",
              "      <td>0</td>\n",
              "      <td>0</td>\n",
              "      <td>0</td>\n",
              "      <td>0</td>\n",
              "    </tr>\n",
              "  </tbody>\n",
              "</table>\n",
              "</div>"
            ],
            "text/plain": [
              "   ms__ Married-AF-spouse  ms__ Married-civ-spouse  \\\n",
              "0                       0                        0   \n",
              "1                       0                        1   \n",
              "2                       0                        0   \n",
              "3                       0                        1   \n",
              "4                       0                        1   \n",
              "\n",
              "   ms__ Married-spouse-absent  ms__ Never-married  ms__ Separated  \\\n",
              "0                           0                   1               0   \n",
              "1                           0                   0               0   \n",
              "2                           0                   0               0   \n",
              "3                           0                   0               0   \n",
              "4                           0                   0               0   \n",
              "\n",
              "   ms__ Widowed  \n",
              "0             0  \n",
              "1             0  \n",
              "2             0  \n",
              "3             0  \n",
              "4             0  "
            ]
          },
          "metadata": {
            "tags": []
          },
          "execution_count": 58
        }
      ]
    },
    {
      "cell_type": "code",
      "metadata": {
        "id": "BbtBg-6K2Fqf",
        "outputId": "3300548e-5c57-49f0-e9ec-8b9b1e4b25d5"
      },
      "source": [
        "# concatenate the original DataFrame and the dummy DataFrame\n",
        "data_census2 = pd.concat([data_census1,ms_dummies], axis=1)\n",
        "data_census2.head()"
      ],
      "execution_count": null,
      "outputs": [
        {
          "output_type": "execute_result",
          "data": {
            "text/html": [
              "<div>\n",
              "<style scoped>\n",
              "    .dataframe tbody tr th:only-of-type {\n",
              "        vertical-align: middle;\n",
              "    }\n",
              "\n",
              "    .dataframe tbody tr th {\n",
              "        vertical-align: top;\n",
              "    }\n",
              "\n",
              "    .dataframe thead th {\n",
              "        text-align: right;\n",
              "    }\n",
              "</style>\n",
              "<table border=\"1\" class=\"dataframe\">\n",
              "  <thead>\n",
              "    <tr style=\"text-align: right;\">\n",
              "      <th></th>\n",
              "      <th>age</th>\n",
              "      <th>workclass</th>\n",
              "      <th>education</th>\n",
              "      <th>marital_status</th>\n",
              "      <th>occupation</th>\n",
              "      <th>relationship</th>\n",
              "      <th>race</th>\n",
              "      <th>gender</th>\n",
              "      <th>hours_per_week</th>\n",
              "      <th>native_country</th>\n",
              "      <th>...</th>\n",
              "      <th>educ__ Masters</th>\n",
              "      <th>educ__ Preschool</th>\n",
              "      <th>educ__ Prof-school</th>\n",
              "      <th>educ__ Some-college</th>\n",
              "      <th>ms__ Married-AF-spouse</th>\n",
              "      <th>ms__ Married-civ-spouse</th>\n",
              "      <th>ms__ Married-spouse-absent</th>\n",
              "      <th>ms__ Never-married</th>\n",
              "      <th>ms__ Separated</th>\n",
              "      <th>ms__ Widowed</th>\n",
              "    </tr>\n",
              "  </thead>\n",
              "  <tbody>\n",
              "    <tr>\n",
              "      <th>0</th>\n",
              "      <td>39</td>\n",
              "      <td>State-gov</td>\n",
              "      <td>Bachelors</td>\n",
              "      <td>Never-married</td>\n",
              "      <td>Adm-clerical</td>\n",
              "      <td>Not-in-family</td>\n",
              "      <td>White</td>\n",
              "      <td>Male</td>\n",
              "      <td>40</td>\n",
              "      <td>United-States</td>\n",
              "      <td>...</td>\n",
              "      <td>0</td>\n",
              "      <td>0</td>\n",
              "      <td>0</td>\n",
              "      <td>0</td>\n",
              "      <td>0</td>\n",
              "      <td>0</td>\n",
              "      <td>0</td>\n",
              "      <td>1</td>\n",
              "      <td>0</td>\n",
              "      <td>0</td>\n",
              "    </tr>\n",
              "    <tr>\n",
              "      <th>1</th>\n",
              "      <td>50</td>\n",
              "      <td>Self-emp-not-inc</td>\n",
              "      <td>Bachelors</td>\n",
              "      <td>Married-civ-spouse</td>\n",
              "      <td>Exec-managerial</td>\n",
              "      <td>Husband</td>\n",
              "      <td>White</td>\n",
              "      <td>Male</td>\n",
              "      <td>13</td>\n",
              "      <td>United-States</td>\n",
              "      <td>...</td>\n",
              "      <td>0</td>\n",
              "      <td>0</td>\n",
              "      <td>0</td>\n",
              "      <td>0</td>\n",
              "      <td>0</td>\n",
              "      <td>1</td>\n",
              "      <td>0</td>\n",
              "      <td>0</td>\n",
              "      <td>0</td>\n",
              "      <td>0</td>\n",
              "    </tr>\n",
              "    <tr>\n",
              "      <th>2</th>\n",
              "      <td>38</td>\n",
              "      <td>Private</td>\n",
              "      <td>HS-grad</td>\n",
              "      <td>Divorced</td>\n",
              "      <td>Handlers-cleaners</td>\n",
              "      <td>Not-in-family</td>\n",
              "      <td>White</td>\n",
              "      <td>Male</td>\n",
              "      <td>40</td>\n",
              "      <td>United-States</td>\n",
              "      <td>...</td>\n",
              "      <td>0</td>\n",
              "      <td>0</td>\n",
              "      <td>0</td>\n",
              "      <td>0</td>\n",
              "      <td>0</td>\n",
              "      <td>0</td>\n",
              "      <td>0</td>\n",
              "      <td>0</td>\n",
              "      <td>0</td>\n",
              "      <td>0</td>\n",
              "    </tr>\n",
              "    <tr>\n",
              "      <th>3</th>\n",
              "      <td>53</td>\n",
              "      <td>Private</td>\n",
              "      <td>11th</td>\n",
              "      <td>Married-civ-spouse</td>\n",
              "      <td>Handlers-cleaners</td>\n",
              "      <td>Husband</td>\n",
              "      <td>Black</td>\n",
              "      <td>Male</td>\n",
              "      <td>40</td>\n",
              "      <td>United-States</td>\n",
              "      <td>...</td>\n",
              "      <td>0</td>\n",
              "      <td>0</td>\n",
              "      <td>0</td>\n",
              "      <td>0</td>\n",
              "      <td>0</td>\n",
              "      <td>1</td>\n",
              "      <td>0</td>\n",
              "      <td>0</td>\n",
              "      <td>0</td>\n",
              "      <td>0</td>\n",
              "    </tr>\n",
              "    <tr>\n",
              "      <th>4</th>\n",
              "      <td>28</td>\n",
              "      <td>Private</td>\n",
              "      <td>Bachelors</td>\n",
              "      <td>Married-civ-spouse</td>\n",
              "      <td>Prof-specialty</td>\n",
              "      <td>Wife</td>\n",
              "      <td>Black</td>\n",
              "      <td>Female</td>\n",
              "      <td>40</td>\n",
              "      <td>Cuba</td>\n",
              "      <td>...</td>\n",
              "      <td>0</td>\n",
              "      <td>0</td>\n",
              "      <td>0</td>\n",
              "      <td>0</td>\n",
              "      <td>0</td>\n",
              "      <td>1</td>\n",
              "      <td>0</td>\n",
              "      <td>0</td>\n",
              "      <td>0</td>\n",
              "      <td>0</td>\n",
              "    </tr>\n",
              "  </tbody>\n",
              "</table>\n",
              "<p>5 rows × 39 columns</p>\n",
              "</div>"
            ],
            "text/plain": [
              "   age          workclass   education       marital_status  \\\n",
              "0   39          State-gov   Bachelors        Never-married   \n",
              "1   50   Self-emp-not-inc   Bachelors   Married-civ-spouse   \n",
              "2   38            Private     HS-grad             Divorced   \n",
              "3   53            Private        11th   Married-civ-spouse   \n",
              "4   28            Private   Bachelors   Married-civ-spouse   \n",
              "\n",
              "           occupation    relationship    race   gender  hours_per_week  \\\n",
              "0        Adm-clerical   Not-in-family   White     Male              40   \n",
              "1     Exec-managerial         Husband   White     Male              13   \n",
              "2   Handlers-cleaners   Not-in-family   White     Male              40   \n",
              "3   Handlers-cleaners         Husband   Black     Male              40   \n",
              "4      Prof-specialty            Wife   Black   Female              40   \n",
              "\n",
              "   native_country      ...       educ__ Masters  educ__ Preschool  \\\n",
              "0   United-States      ...                    0                 0   \n",
              "1   United-States      ...                    0                 0   \n",
              "2   United-States      ...                    0                 0   \n",
              "3   United-States      ...                    0                 0   \n",
              "4            Cuba      ...                    0                 0   \n",
              "\n",
              "   educ__ Prof-school  educ__ Some-college  ms__ Married-AF-spouse  \\\n",
              "0                   0                    0                       0   \n",
              "1                   0                    0                       0   \n",
              "2                   0                    0                       0   \n",
              "3                   0                    0                       0   \n",
              "4                   0                    0                       0   \n",
              "\n",
              "   ms__ Married-civ-spouse  ms__ Married-spouse-absent  ms__ Never-married  \\\n",
              "0                        0                           0                   1   \n",
              "1                        1                           0                   0   \n",
              "2                        0                           0                   0   \n",
              "3                        1                           0                   0   \n",
              "4                        1                           0                   0   \n",
              "\n",
              "   ms__ Separated  ms__ Widowed  \n",
              "0               0             0  \n",
              "1               0             0  \n",
              "2               0             0  \n",
              "3               0             0  \n",
              "4               0             0  \n",
              "\n",
              "[5 rows x 39 columns]"
            ]
          },
          "metadata": {
            "tags": []
          },
          "execution_count": 59
        }
      ]
    },
    {
      "cell_type": "code",
      "metadata": {
        "scrolled": true,
        "id": "iRHmAbp22Fqg",
        "outputId": "e85ea134-0887-42e5-9b8c-e520c77c3598"
      },
      "source": [
        "# create a DataFrame of dummy variables for occupation\n",
        "oc_dummies = pd.get_dummies(data.occupation, prefix='oc_')\n",
        "oc_dummies.drop(oc_dummies.columns[0],axis=1,inplace=True)\n",
        "oc_dummies.head()"
      ],
      "execution_count": null,
      "outputs": [
        {
          "output_type": "execute_result",
          "data": {
            "text/html": [
              "<div>\n",
              "<style scoped>\n",
              "    .dataframe tbody tr th:only-of-type {\n",
              "        vertical-align: middle;\n",
              "    }\n",
              "\n",
              "    .dataframe tbody tr th {\n",
              "        vertical-align: top;\n",
              "    }\n",
              "\n",
              "    .dataframe thead th {\n",
              "        text-align: right;\n",
              "    }\n",
              "</style>\n",
              "<table border=\"1\" class=\"dataframe\">\n",
              "  <thead>\n",
              "    <tr style=\"text-align: right;\">\n",
              "      <th></th>\n",
              "      <th>oc__ Armed-Forces</th>\n",
              "      <th>oc__ Craft-repair</th>\n",
              "      <th>oc__ Exec-managerial</th>\n",
              "      <th>oc__ Farming-fishing</th>\n",
              "      <th>oc__ Handlers-cleaners</th>\n",
              "      <th>oc__ Machine-op-inspct</th>\n",
              "      <th>oc__ Other-service</th>\n",
              "      <th>oc__ Priv-house-serv</th>\n",
              "      <th>oc__ Prof-specialty</th>\n",
              "      <th>oc__ Protective-serv</th>\n",
              "      <th>oc__ Sales</th>\n",
              "      <th>oc__ Tech-support</th>\n",
              "      <th>oc__ Transport-moving</th>\n",
              "    </tr>\n",
              "  </thead>\n",
              "  <tbody>\n",
              "    <tr>\n",
              "      <th>0</th>\n",
              "      <td>0</td>\n",
              "      <td>0</td>\n",
              "      <td>0</td>\n",
              "      <td>0</td>\n",
              "      <td>0</td>\n",
              "      <td>0</td>\n",
              "      <td>0</td>\n",
              "      <td>0</td>\n",
              "      <td>0</td>\n",
              "      <td>0</td>\n",
              "      <td>0</td>\n",
              "      <td>0</td>\n",
              "      <td>0</td>\n",
              "    </tr>\n",
              "    <tr>\n",
              "      <th>1</th>\n",
              "      <td>0</td>\n",
              "      <td>0</td>\n",
              "      <td>1</td>\n",
              "      <td>0</td>\n",
              "      <td>0</td>\n",
              "      <td>0</td>\n",
              "      <td>0</td>\n",
              "      <td>0</td>\n",
              "      <td>0</td>\n",
              "      <td>0</td>\n",
              "      <td>0</td>\n",
              "      <td>0</td>\n",
              "      <td>0</td>\n",
              "    </tr>\n",
              "    <tr>\n",
              "      <th>2</th>\n",
              "      <td>0</td>\n",
              "      <td>0</td>\n",
              "      <td>0</td>\n",
              "      <td>0</td>\n",
              "      <td>1</td>\n",
              "      <td>0</td>\n",
              "      <td>0</td>\n",
              "      <td>0</td>\n",
              "      <td>0</td>\n",
              "      <td>0</td>\n",
              "      <td>0</td>\n",
              "      <td>0</td>\n",
              "      <td>0</td>\n",
              "    </tr>\n",
              "    <tr>\n",
              "      <th>3</th>\n",
              "      <td>0</td>\n",
              "      <td>0</td>\n",
              "      <td>0</td>\n",
              "      <td>0</td>\n",
              "      <td>1</td>\n",
              "      <td>0</td>\n",
              "      <td>0</td>\n",
              "      <td>0</td>\n",
              "      <td>0</td>\n",
              "      <td>0</td>\n",
              "      <td>0</td>\n",
              "      <td>0</td>\n",
              "      <td>0</td>\n",
              "    </tr>\n",
              "    <tr>\n",
              "      <th>4</th>\n",
              "      <td>0</td>\n",
              "      <td>0</td>\n",
              "      <td>0</td>\n",
              "      <td>0</td>\n",
              "      <td>0</td>\n",
              "      <td>0</td>\n",
              "      <td>0</td>\n",
              "      <td>0</td>\n",
              "      <td>1</td>\n",
              "      <td>0</td>\n",
              "      <td>0</td>\n",
              "      <td>0</td>\n",
              "      <td>0</td>\n",
              "    </tr>\n",
              "  </tbody>\n",
              "</table>\n",
              "</div>"
            ],
            "text/plain": [
              "   oc__ Armed-Forces  oc__ Craft-repair  oc__ Exec-managerial  \\\n",
              "0                  0                  0                     0   \n",
              "1                  0                  0                     1   \n",
              "2                  0                  0                     0   \n",
              "3                  0                  0                     0   \n",
              "4                  0                  0                     0   \n",
              "\n",
              "   oc__ Farming-fishing  oc__ Handlers-cleaners  oc__ Machine-op-inspct  \\\n",
              "0                     0                       0                       0   \n",
              "1                     0                       0                       0   \n",
              "2                     0                       1                       0   \n",
              "3                     0                       1                       0   \n",
              "4                     0                       0                       0   \n",
              "\n",
              "   oc__ Other-service  oc__ Priv-house-serv  oc__ Prof-specialty  \\\n",
              "0                   0                     0                    0   \n",
              "1                   0                     0                    0   \n",
              "2                   0                     0                    0   \n",
              "3                   0                     0                    0   \n",
              "4                   0                     0                    1   \n",
              "\n",
              "   oc__ Protective-serv  oc__ Sales  oc__ Tech-support  oc__ Transport-moving  \n",
              "0                     0           0                  0                      0  \n",
              "1                     0           0                  0                      0  \n",
              "2                     0           0                  0                      0  \n",
              "3                     0           0                  0                      0  \n",
              "4                     0           0                  0                      0  "
            ]
          },
          "metadata": {
            "tags": []
          },
          "execution_count": 60
        }
      ]
    },
    {
      "cell_type": "code",
      "metadata": {
        "id": "PrXQS93f2Fqh",
        "outputId": "0d9537ed-e87c-44a1-ed75-4d166a6199c8"
      },
      "source": [
        "# concatenate the original DataFrame and the dummy DataFrame\n",
        "data_census3 = pd.concat([data_census2,oc_dummies], axis=1)\n",
        "data_census3.head()"
      ],
      "execution_count": null,
      "outputs": [
        {
          "output_type": "execute_result",
          "data": {
            "text/html": [
              "<div>\n",
              "<style scoped>\n",
              "    .dataframe tbody tr th:only-of-type {\n",
              "        vertical-align: middle;\n",
              "    }\n",
              "\n",
              "    .dataframe tbody tr th {\n",
              "        vertical-align: top;\n",
              "    }\n",
              "\n",
              "    .dataframe thead th {\n",
              "        text-align: right;\n",
              "    }\n",
              "</style>\n",
              "<table border=\"1\" class=\"dataframe\">\n",
              "  <thead>\n",
              "    <tr style=\"text-align: right;\">\n",
              "      <th></th>\n",
              "      <th>age</th>\n",
              "      <th>workclass</th>\n",
              "      <th>education</th>\n",
              "      <th>marital_status</th>\n",
              "      <th>occupation</th>\n",
              "      <th>relationship</th>\n",
              "      <th>race</th>\n",
              "      <th>gender</th>\n",
              "      <th>hours_per_week</th>\n",
              "      <th>native_country</th>\n",
              "      <th>...</th>\n",
              "      <th>oc__ Farming-fishing</th>\n",
              "      <th>oc__ Handlers-cleaners</th>\n",
              "      <th>oc__ Machine-op-inspct</th>\n",
              "      <th>oc__ Other-service</th>\n",
              "      <th>oc__ Priv-house-serv</th>\n",
              "      <th>oc__ Prof-specialty</th>\n",
              "      <th>oc__ Protective-serv</th>\n",
              "      <th>oc__ Sales</th>\n",
              "      <th>oc__ Tech-support</th>\n",
              "      <th>oc__ Transport-moving</th>\n",
              "    </tr>\n",
              "  </thead>\n",
              "  <tbody>\n",
              "    <tr>\n",
              "      <th>0</th>\n",
              "      <td>39</td>\n",
              "      <td>State-gov</td>\n",
              "      <td>Bachelors</td>\n",
              "      <td>Never-married</td>\n",
              "      <td>Adm-clerical</td>\n",
              "      <td>Not-in-family</td>\n",
              "      <td>White</td>\n",
              "      <td>Male</td>\n",
              "      <td>40</td>\n",
              "      <td>United-States</td>\n",
              "      <td>...</td>\n",
              "      <td>0</td>\n",
              "      <td>0</td>\n",
              "      <td>0</td>\n",
              "      <td>0</td>\n",
              "      <td>0</td>\n",
              "      <td>0</td>\n",
              "      <td>0</td>\n",
              "      <td>0</td>\n",
              "      <td>0</td>\n",
              "      <td>0</td>\n",
              "    </tr>\n",
              "    <tr>\n",
              "      <th>1</th>\n",
              "      <td>50</td>\n",
              "      <td>Self-emp-not-inc</td>\n",
              "      <td>Bachelors</td>\n",
              "      <td>Married-civ-spouse</td>\n",
              "      <td>Exec-managerial</td>\n",
              "      <td>Husband</td>\n",
              "      <td>White</td>\n",
              "      <td>Male</td>\n",
              "      <td>13</td>\n",
              "      <td>United-States</td>\n",
              "      <td>...</td>\n",
              "      <td>0</td>\n",
              "      <td>0</td>\n",
              "      <td>0</td>\n",
              "      <td>0</td>\n",
              "      <td>0</td>\n",
              "      <td>0</td>\n",
              "      <td>0</td>\n",
              "      <td>0</td>\n",
              "      <td>0</td>\n",
              "      <td>0</td>\n",
              "    </tr>\n",
              "    <tr>\n",
              "      <th>2</th>\n",
              "      <td>38</td>\n",
              "      <td>Private</td>\n",
              "      <td>HS-grad</td>\n",
              "      <td>Divorced</td>\n",
              "      <td>Handlers-cleaners</td>\n",
              "      <td>Not-in-family</td>\n",
              "      <td>White</td>\n",
              "      <td>Male</td>\n",
              "      <td>40</td>\n",
              "      <td>United-States</td>\n",
              "      <td>...</td>\n",
              "      <td>0</td>\n",
              "      <td>1</td>\n",
              "      <td>0</td>\n",
              "      <td>0</td>\n",
              "      <td>0</td>\n",
              "      <td>0</td>\n",
              "      <td>0</td>\n",
              "      <td>0</td>\n",
              "      <td>0</td>\n",
              "      <td>0</td>\n",
              "    </tr>\n",
              "    <tr>\n",
              "      <th>3</th>\n",
              "      <td>53</td>\n",
              "      <td>Private</td>\n",
              "      <td>11th</td>\n",
              "      <td>Married-civ-spouse</td>\n",
              "      <td>Handlers-cleaners</td>\n",
              "      <td>Husband</td>\n",
              "      <td>Black</td>\n",
              "      <td>Male</td>\n",
              "      <td>40</td>\n",
              "      <td>United-States</td>\n",
              "      <td>...</td>\n",
              "      <td>0</td>\n",
              "      <td>1</td>\n",
              "      <td>0</td>\n",
              "      <td>0</td>\n",
              "      <td>0</td>\n",
              "      <td>0</td>\n",
              "      <td>0</td>\n",
              "      <td>0</td>\n",
              "      <td>0</td>\n",
              "      <td>0</td>\n",
              "    </tr>\n",
              "    <tr>\n",
              "      <th>4</th>\n",
              "      <td>28</td>\n",
              "      <td>Private</td>\n",
              "      <td>Bachelors</td>\n",
              "      <td>Married-civ-spouse</td>\n",
              "      <td>Prof-specialty</td>\n",
              "      <td>Wife</td>\n",
              "      <td>Black</td>\n",
              "      <td>Female</td>\n",
              "      <td>40</td>\n",
              "      <td>Cuba</td>\n",
              "      <td>...</td>\n",
              "      <td>0</td>\n",
              "      <td>0</td>\n",
              "      <td>0</td>\n",
              "      <td>0</td>\n",
              "      <td>0</td>\n",
              "      <td>1</td>\n",
              "      <td>0</td>\n",
              "      <td>0</td>\n",
              "      <td>0</td>\n",
              "      <td>0</td>\n",
              "    </tr>\n",
              "  </tbody>\n",
              "</table>\n",
              "<p>5 rows × 52 columns</p>\n",
              "</div>"
            ],
            "text/plain": [
              "   age          workclass   education       marital_status  \\\n",
              "0   39          State-gov   Bachelors        Never-married   \n",
              "1   50   Self-emp-not-inc   Bachelors   Married-civ-spouse   \n",
              "2   38            Private     HS-grad             Divorced   \n",
              "3   53            Private        11th   Married-civ-spouse   \n",
              "4   28            Private   Bachelors   Married-civ-spouse   \n",
              "\n",
              "           occupation    relationship    race   gender  hours_per_week  \\\n",
              "0        Adm-clerical   Not-in-family   White     Male              40   \n",
              "1     Exec-managerial         Husband   White     Male              13   \n",
              "2   Handlers-cleaners   Not-in-family   White     Male              40   \n",
              "3   Handlers-cleaners         Husband   Black     Male              40   \n",
              "4      Prof-specialty            Wife   Black   Female              40   \n",
              "\n",
              "   native_country          ...            oc__ Farming-fishing  \\\n",
              "0   United-States          ...                               0   \n",
              "1   United-States          ...                               0   \n",
              "2   United-States          ...                               0   \n",
              "3   United-States          ...                               0   \n",
              "4            Cuba          ...                               0   \n",
              "\n",
              "   oc__ Handlers-cleaners  oc__ Machine-op-inspct  oc__ Other-service  \\\n",
              "0                       0                       0                   0   \n",
              "1                       0                       0                   0   \n",
              "2                       1                       0                   0   \n",
              "3                       1                       0                   0   \n",
              "4                       0                       0                   0   \n",
              "\n",
              "   oc__ Priv-house-serv  oc__ Prof-specialty  oc__ Protective-serv  \\\n",
              "0                     0                    0                     0   \n",
              "1                     0                    0                     0   \n",
              "2                     0                    0                     0   \n",
              "3                     0                    0                     0   \n",
              "4                     0                    1                     0   \n",
              "\n",
              "   oc__ Sales  oc__ Tech-support  oc__ Transport-moving  \n",
              "0           0                  0                      0  \n",
              "1           0                  0                      0  \n",
              "2           0                  0                      0  \n",
              "3           0                  0                      0  \n",
              "4           0                  0                      0  \n",
              "\n",
              "[5 rows x 52 columns]"
            ]
          },
          "metadata": {
            "tags": []
          },
          "execution_count": 61
        }
      ]
    },
    {
      "cell_type": "code",
      "metadata": {
        "id": "MphZXvZ-2Fqi",
        "outputId": "d84a1b39-bd62-49e7-984d-a592fe56c220"
      },
      "source": [
        "# create a DataFrame of dummy variables for relationship\n",
        "rs_dummies = pd.get_dummies(data.relationship, prefix='rs_')\n",
        "rs_dummies.drop(rs_dummies.columns[0],axis=1,inplace=True)\n",
        "rs_dummies.head()"
      ],
      "execution_count": null,
      "outputs": [
        {
          "output_type": "execute_result",
          "data": {
            "text/html": [
              "<div>\n",
              "<style scoped>\n",
              "    .dataframe tbody tr th:only-of-type {\n",
              "        vertical-align: middle;\n",
              "    }\n",
              "\n",
              "    .dataframe tbody tr th {\n",
              "        vertical-align: top;\n",
              "    }\n",
              "\n",
              "    .dataframe thead th {\n",
              "        text-align: right;\n",
              "    }\n",
              "</style>\n",
              "<table border=\"1\" class=\"dataframe\">\n",
              "  <thead>\n",
              "    <tr style=\"text-align: right;\">\n",
              "      <th></th>\n",
              "      <th>rs__ Not-in-family</th>\n",
              "      <th>rs__ Other-relative</th>\n",
              "      <th>rs__ Own-child</th>\n",
              "      <th>rs__ Unmarried</th>\n",
              "      <th>rs__ Wife</th>\n",
              "    </tr>\n",
              "  </thead>\n",
              "  <tbody>\n",
              "    <tr>\n",
              "      <th>0</th>\n",
              "      <td>1</td>\n",
              "      <td>0</td>\n",
              "      <td>0</td>\n",
              "      <td>0</td>\n",
              "      <td>0</td>\n",
              "    </tr>\n",
              "    <tr>\n",
              "      <th>1</th>\n",
              "      <td>0</td>\n",
              "      <td>0</td>\n",
              "      <td>0</td>\n",
              "      <td>0</td>\n",
              "      <td>0</td>\n",
              "    </tr>\n",
              "    <tr>\n",
              "      <th>2</th>\n",
              "      <td>1</td>\n",
              "      <td>0</td>\n",
              "      <td>0</td>\n",
              "      <td>0</td>\n",
              "      <td>0</td>\n",
              "    </tr>\n",
              "    <tr>\n",
              "      <th>3</th>\n",
              "      <td>0</td>\n",
              "      <td>0</td>\n",
              "      <td>0</td>\n",
              "      <td>0</td>\n",
              "      <td>0</td>\n",
              "    </tr>\n",
              "    <tr>\n",
              "      <th>4</th>\n",
              "      <td>0</td>\n",
              "      <td>0</td>\n",
              "      <td>0</td>\n",
              "      <td>0</td>\n",
              "      <td>1</td>\n",
              "    </tr>\n",
              "  </tbody>\n",
              "</table>\n",
              "</div>"
            ],
            "text/plain": [
              "   rs__ Not-in-family  rs__ Other-relative  rs__ Own-child  rs__ Unmarried  \\\n",
              "0                   1                    0               0               0   \n",
              "1                   0                    0               0               0   \n",
              "2                   1                    0               0               0   \n",
              "3                   0                    0               0               0   \n",
              "4                   0                    0               0               0   \n",
              "\n",
              "   rs__ Wife  \n",
              "0          0  \n",
              "1          0  \n",
              "2          0  \n",
              "3          0  \n",
              "4          1  "
            ]
          },
          "metadata": {
            "tags": []
          },
          "execution_count": 62
        }
      ]
    },
    {
      "cell_type": "code",
      "metadata": {
        "id": "Wh98xoq-2Fqi",
        "outputId": "12db8712-b0c1-4485-b8b4-9171ec14e879"
      },
      "source": [
        "# concatenate the original DataFrame and the dummy DataFrame\n",
        "data_census4 = pd.concat([data_census3,rs_dummies], axis=1)\n",
        "data_census4.head()"
      ],
      "execution_count": null,
      "outputs": [
        {
          "output_type": "execute_result",
          "data": {
            "text/html": [
              "<div>\n",
              "<style scoped>\n",
              "    .dataframe tbody tr th:only-of-type {\n",
              "        vertical-align: middle;\n",
              "    }\n",
              "\n",
              "    .dataframe tbody tr th {\n",
              "        vertical-align: top;\n",
              "    }\n",
              "\n",
              "    .dataframe thead th {\n",
              "        text-align: right;\n",
              "    }\n",
              "</style>\n",
              "<table border=\"1\" class=\"dataframe\">\n",
              "  <thead>\n",
              "    <tr style=\"text-align: right;\">\n",
              "      <th></th>\n",
              "      <th>age</th>\n",
              "      <th>workclass</th>\n",
              "      <th>education</th>\n",
              "      <th>marital_status</th>\n",
              "      <th>occupation</th>\n",
              "      <th>relationship</th>\n",
              "      <th>race</th>\n",
              "      <th>gender</th>\n",
              "      <th>hours_per_week</th>\n",
              "      <th>native_country</th>\n",
              "      <th>...</th>\n",
              "      <th>oc__ Prof-specialty</th>\n",
              "      <th>oc__ Protective-serv</th>\n",
              "      <th>oc__ Sales</th>\n",
              "      <th>oc__ Tech-support</th>\n",
              "      <th>oc__ Transport-moving</th>\n",
              "      <th>rs__ Not-in-family</th>\n",
              "      <th>rs__ Other-relative</th>\n",
              "      <th>rs__ Own-child</th>\n",
              "      <th>rs__ Unmarried</th>\n",
              "      <th>rs__ Wife</th>\n",
              "    </tr>\n",
              "  </thead>\n",
              "  <tbody>\n",
              "    <tr>\n",
              "      <th>0</th>\n",
              "      <td>39</td>\n",
              "      <td>State-gov</td>\n",
              "      <td>Bachelors</td>\n",
              "      <td>Never-married</td>\n",
              "      <td>Adm-clerical</td>\n",
              "      <td>Not-in-family</td>\n",
              "      <td>White</td>\n",
              "      <td>Male</td>\n",
              "      <td>40</td>\n",
              "      <td>United-States</td>\n",
              "      <td>...</td>\n",
              "      <td>0</td>\n",
              "      <td>0</td>\n",
              "      <td>0</td>\n",
              "      <td>0</td>\n",
              "      <td>0</td>\n",
              "      <td>1</td>\n",
              "      <td>0</td>\n",
              "      <td>0</td>\n",
              "      <td>0</td>\n",
              "      <td>0</td>\n",
              "    </tr>\n",
              "    <tr>\n",
              "      <th>1</th>\n",
              "      <td>50</td>\n",
              "      <td>Self-emp-not-inc</td>\n",
              "      <td>Bachelors</td>\n",
              "      <td>Married-civ-spouse</td>\n",
              "      <td>Exec-managerial</td>\n",
              "      <td>Husband</td>\n",
              "      <td>White</td>\n",
              "      <td>Male</td>\n",
              "      <td>13</td>\n",
              "      <td>United-States</td>\n",
              "      <td>...</td>\n",
              "      <td>0</td>\n",
              "      <td>0</td>\n",
              "      <td>0</td>\n",
              "      <td>0</td>\n",
              "      <td>0</td>\n",
              "      <td>0</td>\n",
              "      <td>0</td>\n",
              "      <td>0</td>\n",
              "      <td>0</td>\n",
              "      <td>0</td>\n",
              "    </tr>\n",
              "    <tr>\n",
              "      <th>2</th>\n",
              "      <td>38</td>\n",
              "      <td>Private</td>\n",
              "      <td>HS-grad</td>\n",
              "      <td>Divorced</td>\n",
              "      <td>Handlers-cleaners</td>\n",
              "      <td>Not-in-family</td>\n",
              "      <td>White</td>\n",
              "      <td>Male</td>\n",
              "      <td>40</td>\n",
              "      <td>United-States</td>\n",
              "      <td>...</td>\n",
              "      <td>0</td>\n",
              "      <td>0</td>\n",
              "      <td>0</td>\n",
              "      <td>0</td>\n",
              "      <td>0</td>\n",
              "      <td>1</td>\n",
              "      <td>0</td>\n",
              "      <td>0</td>\n",
              "      <td>0</td>\n",
              "      <td>0</td>\n",
              "    </tr>\n",
              "    <tr>\n",
              "      <th>3</th>\n",
              "      <td>53</td>\n",
              "      <td>Private</td>\n",
              "      <td>11th</td>\n",
              "      <td>Married-civ-spouse</td>\n",
              "      <td>Handlers-cleaners</td>\n",
              "      <td>Husband</td>\n",
              "      <td>Black</td>\n",
              "      <td>Male</td>\n",
              "      <td>40</td>\n",
              "      <td>United-States</td>\n",
              "      <td>...</td>\n",
              "      <td>0</td>\n",
              "      <td>0</td>\n",
              "      <td>0</td>\n",
              "      <td>0</td>\n",
              "      <td>0</td>\n",
              "      <td>0</td>\n",
              "      <td>0</td>\n",
              "      <td>0</td>\n",
              "      <td>0</td>\n",
              "      <td>0</td>\n",
              "    </tr>\n",
              "    <tr>\n",
              "      <th>4</th>\n",
              "      <td>28</td>\n",
              "      <td>Private</td>\n",
              "      <td>Bachelors</td>\n",
              "      <td>Married-civ-spouse</td>\n",
              "      <td>Prof-specialty</td>\n",
              "      <td>Wife</td>\n",
              "      <td>Black</td>\n",
              "      <td>Female</td>\n",
              "      <td>40</td>\n",
              "      <td>Cuba</td>\n",
              "      <td>...</td>\n",
              "      <td>1</td>\n",
              "      <td>0</td>\n",
              "      <td>0</td>\n",
              "      <td>0</td>\n",
              "      <td>0</td>\n",
              "      <td>0</td>\n",
              "      <td>0</td>\n",
              "      <td>0</td>\n",
              "      <td>0</td>\n",
              "      <td>1</td>\n",
              "    </tr>\n",
              "  </tbody>\n",
              "</table>\n",
              "<p>5 rows × 57 columns</p>\n",
              "</div>"
            ],
            "text/plain": [
              "   age          workclass   education       marital_status  \\\n",
              "0   39          State-gov   Bachelors        Never-married   \n",
              "1   50   Self-emp-not-inc   Bachelors   Married-civ-spouse   \n",
              "2   38            Private     HS-grad             Divorced   \n",
              "3   53            Private        11th   Married-civ-spouse   \n",
              "4   28            Private   Bachelors   Married-civ-spouse   \n",
              "\n",
              "           occupation    relationship    race   gender  hours_per_week  \\\n",
              "0        Adm-clerical   Not-in-family   White     Male              40   \n",
              "1     Exec-managerial         Husband   White     Male              13   \n",
              "2   Handlers-cleaners   Not-in-family   White     Male              40   \n",
              "3   Handlers-cleaners         Husband   Black     Male              40   \n",
              "4      Prof-specialty            Wife   Black   Female              40   \n",
              "\n",
              "   native_country    ...      oc__ Prof-specialty  oc__ Protective-serv  \\\n",
              "0   United-States    ...                        0                     0   \n",
              "1   United-States    ...                        0                     0   \n",
              "2   United-States    ...                        0                     0   \n",
              "3   United-States    ...                        0                     0   \n",
              "4            Cuba    ...                        1                     0   \n",
              "\n",
              "   oc__ Sales  oc__ Tech-support  oc__ Transport-moving  rs__ Not-in-family  \\\n",
              "0           0                  0                      0                   1   \n",
              "1           0                  0                      0                   0   \n",
              "2           0                  0                      0                   1   \n",
              "3           0                  0                      0                   0   \n",
              "4           0                  0                      0                   0   \n",
              "\n",
              "   rs__ Other-relative  rs__ Own-child  rs__ Unmarried  rs__ Wife  \n",
              "0                    0               0               0          0  \n",
              "1                    0               0               0          0  \n",
              "2                    0               0               0          0  \n",
              "3                    0               0               0          0  \n",
              "4                    0               0               0          1  \n",
              "\n",
              "[5 rows x 57 columns]"
            ]
          },
          "metadata": {
            "tags": []
          },
          "execution_count": 63
        }
      ]
    },
    {
      "cell_type": "code",
      "metadata": {
        "id": "50QhpgKx2Fqj",
        "outputId": "71a5e31f-d8cf-410c-90a2-d14d7698ff3a"
      },
      "source": [
        "# create a DataFrame of dummy variables for race\n",
        "race_dummies = pd.get_dummies(data.race, prefix='race_')\n",
        "race_dummies.drop(race_dummies.columns[0],axis=1,inplace=True)\n",
        "race_dummies.head()"
      ],
      "execution_count": null,
      "outputs": [
        {
          "output_type": "execute_result",
          "data": {
            "text/html": [
              "<div>\n",
              "<style scoped>\n",
              "    .dataframe tbody tr th:only-of-type {\n",
              "        vertical-align: middle;\n",
              "    }\n",
              "\n",
              "    .dataframe tbody tr th {\n",
              "        vertical-align: top;\n",
              "    }\n",
              "\n",
              "    .dataframe thead th {\n",
              "        text-align: right;\n",
              "    }\n",
              "</style>\n",
              "<table border=\"1\" class=\"dataframe\">\n",
              "  <thead>\n",
              "    <tr style=\"text-align: right;\">\n",
              "      <th></th>\n",
              "      <th>race__ Asian-Pac-Islander</th>\n",
              "      <th>race__ Black</th>\n",
              "      <th>race__ Other</th>\n",
              "      <th>race__ White</th>\n",
              "    </tr>\n",
              "  </thead>\n",
              "  <tbody>\n",
              "    <tr>\n",
              "      <th>0</th>\n",
              "      <td>0</td>\n",
              "      <td>0</td>\n",
              "      <td>0</td>\n",
              "      <td>1</td>\n",
              "    </tr>\n",
              "    <tr>\n",
              "      <th>1</th>\n",
              "      <td>0</td>\n",
              "      <td>0</td>\n",
              "      <td>0</td>\n",
              "      <td>1</td>\n",
              "    </tr>\n",
              "    <tr>\n",
              "      <th>2</th>\n",
              "      <td>0</td>\n",
              "      <td>0</td>\n",
              "      <td>0</td>\n",
              "      <td>1</td>\n",
              "    </tr>\n",
              "    <tr>\n",
              "      <th>3</th>\n",
              "      <td>0</td>\n",
              "      <td>1</td>\n",
              "      <td>0</td>\n",
              "      <td>0</td>\n",
              "    </tr>\n",
              "    <tr>\n",
              "      <th>4</th>\n",
              "      <td>0</td>\n",
              "      <td>1</td>\n",
              "      <td>0</td>\n",
              "      <td>0</td>\n",
              "    </tr>\n",
              "  </tbody>\n",
              "</table>\n",
              "</div>"
            ],
            "text/plain": [
              "   race__ Asian-Pac-Islander  race__ Black  race__ Other  race__ White\n",
              "0                          0             0             0             1\n",
              "1                          0             0             0             1\n",
              "2                          0             0             0             1\n",
              "3                          0             1             0             0\n",
              "4                          0             1             0             0"
            ]
          },
          "metadata": {
            "tags": []
          },
          "execution_count": 64
        }
      ]
    },
    {
      "cell_type": "code",
      "metadata": {
        "scrolled": true,
        "id": "f1IfxKFK2Fqk",
        "outputId": "f19e5225-2db6-4de1-a3e4-ac535636df91"
      },
      "source": [
        "# concatenate the original DataFrame and the dummy DataFrame\n",
        "data_census5 = pd.concat([data_census4,race_dummies], axis=1)\n",
        "data_census5.head()"
      ],
      "execution_count": null,
      "outputs": [
        {
          "output_type": "execute_result",
          "data": {
            "text/html": [
              "<div>\n",
              "<style scoped>\n",
              "    .dataframe tbody tr th:only-of-type {\n",
              "        vertical-align: middle;\n",
              "    }\n",
              "\n",
              "    .dataframe tbody tr th {\n",
              "        vertical-align: top;\n",
              "    }\n",
              "\n",
              "    .dataframe thead th {\n",
              "        text-align: right;\n",
              "    }\n",
              "</style>\n",
              "<table border=\"1\" class=\"dataframe\">\n",
              "  <thead>\n",
              "    <tr style=\"text-align: right;\">\n",
              "      <th></th>\n",
              "      <th>age</th>\n",
              "      <th>workclass</th>\n",
              "      <th>education</th>\n",
              "      <th>marital_status</th>\n",
              "      <th>occupation</th>\n",
              "      <th>relationship</th>\n",
              "      <th>race</th>\n",
              "      <th>gender</th>\n",
              "      <th>hours_per_week</th>\n",
              "      <th>native_country</th>\n",
              "      <th>...</th>\n",
              "      <th>oc__ Transport-moving</th>\n",
              "      <th>rs__ Not-in-family</th>\n",
              "      <th>rs__ Other-relative</th>\n",
              "      <th>rs__ Own-child</th>\n",
              "      <th>rs__ Unmarried</th>\n",
              "      <th>rs__ Wife</th>\n",
              "      <th>race__ Asian-Pac-Islander</th>\n",
              "      <th>race__ Black</th>\n",
              "      <th>race__ Other</th>\n",
              "      <th>race__ White</th>\n",
              "    </tr>\n",
              "  </thead>\n",
              "  <tbody>\n",
              "    <tr>\n",
              "      <th>0</th>\n",
              "      <td>39</td>\n",
              "      <td>State-gov</td>\n",
              "      <td>Bachelors</td>\n",
              "      <td>Never-married</td>\n",
              "      <td>Adm-clerical</td>\n",
              "      <td>Not-in-family</td>\n",
              "      <td>White</td>\n",
              "      <td>Male</td>\n",
              "      <td>40</td>\n",
              "      <td>United-States</td>\n",
              "      <td>...</td>\n",
              "      <td>0</td>\n",
              "      <td>1</td>\n",
              "      <td>0</td>\n",
              "      <td>0</td>\n",
              "      <td>0</td>\n",
              "      <td>0</td>\n",
              "      <td>0</td>\n",
              "      <td>0</td>\n",
              "      <td>0</td>\n",
              "      <td>1</td>\n",
              "    </tr>\n",
              "    <tr>\n",
              "      <th>1</th>\n",
              "      <td>50</td>\n",
              "      <td>Self-emp-not-inc</td>\n",
              "      <td>Bachelors</td>\n",
              "      <td>Married-civ-spouse</td>\n",
              "      <td>Exec-managerial</td>\n",
              "      <td>Husband</td>\n",
              "      <td>White</td>\n",
              "      <td>Male</td>\n",
              "      <td>13</td>\n",
              "      <td>United-States</td>\n",
              "      <td>...</td>\n",
              "      <td>0</td>\n",
              "      <td>0</td>\n",
              "      <td>0</td>\n",
              "      <td>0</td>\n",
              "      <td>0</td>\n",
              "      <td>0</td>\n",
              "      <td>0</td>\n",
              "      <td>0</td>\n",
              "      <td>0</td>\n",
              "      <td>1</td>\n",
              "    </tr>\n",
              "    <tr>\n",
              "      <th>2</th>\n",
              "      <td>38</td>\n",
              "      <td>Private</td>\n",
              "      <td>HS-grad</td>\n",
              "      <td>Divorced</td>\n",
              "      <td>Handlers-cleaners</td>\n",
              "      <td>Not-in-family</td>\n",
              "      <td>White</td>\n",
              "      <td>Male</td>\n",
              "      <td>40</td>\n",
              "      <td>United-States</td>\n",
              "      <td>...</td>\n",
              "      <td>0</td>\n",
              "      <td>1</td>\n",
              "      <td>0</td>\n",
              "      <td>0</td>\n",
              "      <td>0</td>\n",
              "      <td>0</td>\n",
              "      <td>0</td>\n",
              "      <td>0</td>\n",
              "      <td>0</td>\n",
              "      <td>1</td>\n",
              "    </tr>\n",
              "    <tr>\n",
              "      <th>3</th>\n",
              "      <td>53</td>\n",
              "      <td>Private</td>\n",
              "      <td>11th</td>\n",
              "      <td>Married-civ-spouse</td>\n",
              "      <td>Handlers-cleaners</td>\n",
              "      <td>Husband</td>\n",
              "      <td>Black</td>\n",
              "      <td>Male</td>\n",
              "      <td>40</td>\n",
              "      <td>United-States</td>\n",
              "      <td>...</td>\n",
              "      <td>0</td>\n",
              "      <td>0</td>\n",
              "      <td>0</td>\n",
              "      <td>0</td>\n",
              "      <td>0</td>\n",
              "      <td>0</td>\n",
              "      <td>0</td>\n",
              "      <td>1</td>\n",
              "      <td>0</td>\n",
              "      <td>0</td>\n",
              "    </tr>\n",
              "    <tr>\n",
              "      <th>4</th>\n",
              "      <td>28</td>\n",
              "      <td>Private</td>\n",
              "      <td>Bachelors</td>\n",
              "      <td>Married-civ-spouse</td>\n",
              "      <td>Prof-specialty</td>\n",
              "      <td>Wife</td>\n",
              "      <td>Black</td>\n",
              "      <td>Female</td>\n",
              "      <td>40</td>\n",
              "      <td>Cuba</td>\n",
              "      <td>...</td>\n",
              "      <td>0</td>\n",
              "      <td>0</td>\n",
              "      <td>0</td>\n",
              "      <td>0</td>\n",
              "      <td>0</td>\n",
              "      <td>1</td>\n",
              "      <td>0</td>\n",
              "      <td>1</td>\n",
              "      <td>0</td>\n",
              "      <td>0</td>\n",
              "    </tr>\n",
              "  </tbody>\n",
              "</table>\n",
              "<p>5 rows × 61 columns</p>\n",
              "</div>"
            ],
            "text/plain": [
              "   age          workclass   education       marital_status  \\\n",
              "0   39          State-gov   Bachelors        Never-married   \n",
              "1   50   Self-emp-not-inc   Bachelors   Married-civ-spouse   \n",
              "2   38            Private     HS-grad             Divorced   \n",
              "3   53            Private        11th   Married-civ-spouse   \n",
              "4   28            Private   Bachelors   Married-civ-spouse   \n",
              "\n",
              "           occupation    relationship    race   gender  hours_per_week  \\\n",
              "0        Adm-clerical   Not-in-family   White     Male              40   \n",
              "1     Exec-managerial         Husband   White     Male              13   \n",
              "2   Handlers-cleaners   Not-in-family   White     Male              40   \n",
              "3   Handlers-cleaners         Husband   Black     Male              40   \n",
              "4      Prof-specialty            Wife   Black   Female              40   \n",
              "\n",
              "   native_country      ...       oc__ Transport-moving  rs__ Not-in-family  \\\n",
              "0   United-States      ...                           0                   1   \n",
              "1   United-States      ...                           0                   0   \n",
              "2   United-States      ...                           0                   1   \n",
              "3   United-States      ...                           0                   0   \n",
              "4            Cuba      ...                           0                   0   \n",
              "\n",
              "   rs__ Other-relative  rs__ Own-child  rs__ Unmarried  rs__ Wife  \\\n",
              "0                    0               0               0          0   \n",
              "1                    0               0               0          0   \n",
              "2                    0               0               0          0   \n",
              "3                    0               0               0          0   \n",
              "4                    0               0               0          1   \n",
              "\n",
              "   race__ Asian-Pac-Islander  race__ Black  race__ Other  race__ White  \n",
              "0                          0             0             0             1  \n",
              "1                          0             0             0             1  \n",
              "2                          0             0             0             1  \n",
              "3                          0             1             0             0  \n",
              "4                          0             1             0             0  \n",
              "\n",
              "[5 rows x 61 columns]"
            ]
          },
          "metadata": {
            "tags": []
          },
          "execution_count": 65
        }
      ]
    },
    {
      "cell_type": "code",
      "metadata": {
        "id": "E8V7aYfP2Fqk",
        "outputId": "4846bf67-1248-49ce-fad9-bad6534ea142"
      },
      "source": [
        "# create a DataFrame of dummy variables for gender\n",
        "gender_dummies = pd.get_dummies(data.gender, prefix='gender_')\n",
        "gender_dummies.drop(gender_dummies.columns[0],axis=1,inplace=True)\n",
        "gender_dummies.head()"
      ],
      "execution_count": null,
      "outputs": [
        {
          "output_type": "execute_result",
          "data": {
            "text/html": [
              "<div>\n",
              "<style scoped>\n",
              "    .dataframe tbody tr th:only-of-type {\n",
              "        vertical-align: middle;\n",
              "    }\n",
              "\n",
              "    .dataframe tbody tr th {\n",
              "        vertical-align: top;\n",
              "    }\n",
              "\n",
              "    .dataframe thead th {\n",
              "        text-align: right;\n",
              "    }\n",
              "</style>\n",
              "<table border=\"1\" class=\"dataframe\">\n",
              "  <thead>\n",
              "    <tr style=\"text-align: right;\">\n",
              "      <th></th>\n",
              "      <th>gender__ Male</th>\n",
              "    </tr>\n",
              "  </thead>\n",
              "  <tbody>\n",
              "    <tr>\n",
              "      <th>0</th>\n",
              "      <td>1</td>\n",
              "    </tr>\n",
              "    <tr>\n",
              "      <th>1</th>\n",
              "      <td>1</td>\n",
              "    </tr>\n",
              "    <tr>\n",
              "      <th>2</th>\n",
              "      <td>1</td>\n",
              "    </tr>\n",
              "    <tr>\n",
              "      <th>3</th>\n",
              "      <td>1</td>\n",
              "    </tr>\n",
              "    <tr>\n",
              "      <th>4</th>\n",
              "      <td>0</td>\n",
              "    </tr>\n",
              "  </tbody>\n",
              "</table>\n",
              "</div>"
            ],
            "text/plain": [
              "   gender__ Male\n",
              "0              1\n",
              "1              1\n",
              "2              1\n",
              "3              1\n",
              "4              0"
            ]
          },
          "metadata": {
            "tags": []
          },
          "execution_count": 66
        }
      ]
    },
    {
      "cell_type": "code",
      "metadata": {
        "id": "X_zhFySJ2Fql",
        "outputId": "2361def2-cbd3-47a8-f7b8-ffb8b031efd0"
      },
      "source": [
        "# concatenate the original DataFrame and the dummy DataFrame\n",
        "data_census6 = pd.concat([data_census5,gender_dummies], axis=1)\n",
        "data_census6.head()"
      ],
      "execution_count": null,
      "outputs": [
        {
          "output_type": "execute_result",
          "data": {
            "text/html": [
              "<div>\n",
              "<style scoped>\n",
              "    .dataframe tbody tr th:only-of-type {\n",
              "        vertical-align: middle;\n",
              "    }\n",
              "\n",
              "    .dataframe tbody tr th {\n",
              "        vertical-align: top;\n",
              "    }\n",
              "\n",
              "    .dataframe thead th {\n",
              "        text-align: right;\n",
              "    }\n",
              "</style>\n",
              "<table border=\"1\" class=\"dataframe\">\n",
              "  <thead>\n",
              "    <tr style=\"text-align: right;\">\n",
              "      <th></th>\n",
              "      <th>age</th>\n",
              "      <th>workclass</th>\n",
              "      <th>education</th>\n",
              "      <th>marital_status</th>\n",
              "      <th>occupation</th>\n",
              "      <th>relationship</th>\n",
              "      <th>race</th>\n",
              "      <th>gender</th>\n",
              "      <th>hours_per_week</th>\n",
              "      <th>native_country</th>\n",
              "      <th>...</th>\n",
              "      <th>rs__ Not-in-family</th>\n",
              "      <th>rs__ Other-relative</th>\n",
              "      <th>rs__ Own-child</th>\n",
              "      <th>rs__ Unmarried</th>\n",
              "      <th>rs__ Wife</th>\n",
              "      <th>race__ Asian-Pac-Islander</th>\n",
              "      <th>race__ Black</th>\n",
              "      <th>race__ Other</th>\n",
              "      <th>race__ White</th>\n",
              "      <th>gender__ Male</th>\n",
              "    </tr>\n",
              "  </thead>\n",
              "  <tbody>\n",
              "    <tr>\n",
              "      <th>0</th>\n",
              "      <td>39</td>\n",
              "      <td>State-gov</td>\n",
              "      <td>Bachelors</td>\n",
              "      <td>Never-married</td>\n",
              "      <td>Adm-clerical</td>\n",
              "      <td>Not-in-family</td>\n",
              "      <td>White</td>\n",
              "      <td>Male</td>\n",
              "      <td>40</td>\n",
              "      <td>United-States</td>\n",
              "      <td>...</td>\n",
              "      <td>1</td>\n",
              "      <td>0</td>\n",
              "      <td>0</td>\n",
              "      <td>0</td>\n",
              "      <td>0</td>\n",
              "      <td>0</td>\n",
              "      <td>0</td>\n",
              "      <td>0</td>\n",
              "      <td>1</td>\n",
              "      <td>1</td>\n",
              "    </tr>\n",
              "    <tr>\n",
              "      <th>1</th>\n",
              "      <td>50</td>\n",
              "      <td>Self-emp-not-inc</td>\n",
              "      <td>Bachelors</td>\n",
              "      <td>Married-civ-spouse</td>\n",
              "      <td>Exec-managerial</td>\n",
              "      <td>Husband</td>\n",
              "      <td>White</td>\n",
              "      <td>Male</td>\n",
              "      <td>13</td>\n",
              "      <td>United-States</td>\n",
              "      <td>...</td>\n",
              "      <td>0</td>\n",
              "      <td>0</td>\n",
              "      <td>0</td>\n",
              "      <td>0</td>\n",
              "      <td>0</td>\n",
              "      <td>0</td>\n",
              "      <td>0</td>\n",
              "      <td>0</td>\n",
              "      <td>1</td>\n",
              "      <td>1</td>\n",
              "    </tr>\n",
              "    <tr>\n",
              "      <th>2</th>\n",
              "      <td>38</td>\n",
              "      <td>Private</td>\n",
              "      <td>HS-grad</td>\n",
              "      <td>Divorced</td>\n",
              "      <td>Handlers-cleaners</td>\n",
              "      <td>Not-in-family</td>\n",
              "      <td>White</td>\n",
              "      <td>Male</td>\n",
              "      <td>40</td>\n",
              "      <td>United-States</td>\n",
              "      <td>...</td>\n",
              "      <td>1</td>\n",
              "      <td>0</td>\n",
              "      <td>0</td>\n",
              "      <td>0</td>\n",
              "      <td>0</td>\n",
              "      <td>0</td>\n",
              "      <td>0</td>\n",
              "      <td>0</td>\n",
              "      <td>1</td>\n",
              "      <td>1</td>\n",
              "    </tr>\n",
              "    <tr>\n",
              "      <th>3</th>\n",
              "      <td>53</td>\n",
              "      <td>Private</td>\n",
              "      <td>11th</td>\n",
              "      <td>Married-civ-spouse</td>\n",
              "      <td>Handlers-cleaners</td>\n",
              "      <td>Husband</td>\n",
              "      <td>Black</td>\n",
              "      <td>Male</td>\n",
              "      <td>40</td>\n",
              "      <td>United-States</td>\n",
              "      <td>...</td>\n",
              "      <td>0</td>\n",
              "      <td>0</td>\n",
              "      <td>0</td>\n",
              "      <td>0</td>\n",
              "      <td>0</td>\n",
              "      <td>0</td>\n",
              "      <td>1</td>\n",
              "      <td>0</td>\n",
              "      <td>0</td>\n",
              "      <td>1</td>\n",
              "    </tr>\n",
              "    <tr>\n",
              "      <th>4</th>\n",
              "      <td>28</td>\n",
              "      <td>Private</td>\n",
              "      <td>Bachelors</td>\n",
              "      <td>Married-civ-spouse</td>\n",
              "      <td>Prof-specialty</td>\n",
              "      <td>Wife</td>\n",
              "      <td>Black</td>\n",
              "      <td>Female</td>\n",
              "      <td>40</td>\n",
              "      <td>Cuba</td>\n",
              "      <td>...</td>\n",
              "      <td>0</td>\n",
              "      <td>0</td>\n",
              "      <td>0</td>\n",
              "      <td>0</td>\n",
              "      <td>1</td>\n",
              "      <td>0</td>\n",
              "      <td>1</td>\n",
              "      <td>0</td>\n",
              "      <td>0</td>\n",
              "      <td>0</td>\n",
              "    </tr>\n",
              "  </tbody>\n",
              "</table>\n",
              "<p>5 rows × 62 columns</p>\n",
              "</div>"
            ],
            "text/plain": [
              "   age          workclass   education       marital_status  \\\n",
              "0   39          State-gov   Bachelors        Never-married   \n",
              "1   50   Self-emp-not-inc   Bachelors   Married-civ-spouse   \n",
              "2   38            Private     HS-grad             Divorced   \n",
              "3   53            Private        11th   Married-civ-spouse   \n",
              "4   28            Private   Bachelors   Married-civ-spouse   \n",
              "\n",
              "           occupation    relationship    race   gender  hours_per_week  \\\n",
              "0        Adm-clerical   Not-in-family   White     Male              40   \n",
              "1     Exec-managerial         Husband   White     Male              13   \n",
              "2   Handlers-cleaners   Not-in-family   White     Male              40   \n",
              "3   Handlers-cleaners         Husband   Black     Male              40   \n",
              "4      Prof-specialty            Wife   Black   Female              40   \n",
              "\n",
              "   native_country      ...        rs__ Not-in-family  rs__ Other-relative  \\\n",
              "0   United-States      ...                         1                    0   \n",
              "1   United-States      ...                         0                    0   \n",
              "2   United-States      ...                         1                    0   \n",
              "3   United-States      ...                         0                    0   \n",
              "4            Cuba      ...                         0                    0   \n",
              "\n",
              "   rs__ Own-child  rs__ Unmarried  rs__ Wife  race__ Asian-Pac-Islander  \\\n",
              "0               0               0          0                          0   \n",
              "1               0               0          0                          0   \n",
              "2               0               0          0                          0   \n",
              "3               0               0          0                          0   \n",
              "4               0               0          1                          0   \n",
              "\n",
              "   race__ Black  race__ Other  race__ White  gender__ Male  \n",
              "0             0             0             1              1  \n",
              "1             0             0             1              1  \n",
              "2             0             0             1              1  \n",
              "3             1             0             0              1  \n",
              "4             1             0             0              0  \n",
              "\n",
              "[5 rows x 62 columns]"
            ]
          },
          "metadata": {
            "tags": []
          },
          "execution_count": 67
        }
      ]
    },
    {
      "cell_type": "code",
      "metadata": {
        "id": "wRdOGKT_2Fqm",
        "outputId": "1d3da5a1-8309-4569-f0b5-fed89214aed0"
      },
      "source": [
        "# create a DataFrame of dummy variables for country\n",
        "country_dummies = pd.get_dummies(data.native_country, prefix='nc_')\n",
        "country_dummies.drop(country_dummies.columns[0],axis=1,inplace=True)\n",
        "country_dummies.head()"
      ],
      "execution_count": null,
      "outputs": [
        {
          "output_type": "execute_result",
          "data": {
            "text/html": [
              "<div>\n",
              "<style scoped>\n",
              "    .dataframe tbody tr th:only-of-type {\n",
              "        vertical-align: middle;\n",
              "    }\n",
              "\n",
              "    .dataframe tbody tr th {\n",
              "        vertical-align: top;\n",
              "    }\n",
              "\n",
              "    .dataframe thead th {\n",
              "        text-align: right;\n",
              "    }\n",
              "</style>\n",
              "<table border=\"1\" class=\"dataframe\">\n",
              "  <thead>\n",
              "    <tr style=\"text-align: right;\">\n",
              "      <th></th>\n",
              "      <th>nc__ Canada</th>\n",
              "      <th>nc__ China</th>\n",
              "      <th>nc__ Columbia</th>\n",
              "      <th>nc__ Cuba</th>\n",
              "      <th>nc__ Dominican-Republic</th>\n",
              "      <th>nc__ Ecuador</th>\n",
              "      <th>nc__ El-Salvador</th>\n",
              "      <th>nc__ England</th>\n",
              "      <th>nc__ France</th>\n",
              "      <th>nc__ Germany</th>\n",
              "      <th>...</th>\n",
              "      <th>nc__ Portugal</th>\n",
              "      <th>nc__ Puerto-Rico</th>\n",
              "      <th>nc__ Scotland</th>\n",
              "      <th>nc__ South</th>\n",
              "      <th>nc__ Taiwan</th>\n",
              "      <th>nc__ Thailand</th>\n",
              "      <th>nc__ Trinadad&amp;Tobago</th>\n",
              "      <th>nc__ United-States</th>\n",
              "      <th>nc__ Vietnam</th>\n",
              "      <th>nc__ Yugoslavia</th>\n",
              "    </tr>\n",
              "  </thead>\n",
              "  <tbody>\n",
              "    <tr>\n",
              "      <th>0</th>\n",
              "      <td>0</td>\n",
              "      <td>0</td>\n",
              "      <td>0</td>\n",
              "      <td>0</td>\n",
              "      <td>0</td>\n",
              "      <td>0</td>\n",
              "      <td>0</td>\n",
              "      <td>0</td>\n",
              "      <td>0</td>\n",
              "      <td>0</td>\n",
              "      <td>...</td>\n",
              "      <td>0</td>\n",
              "      <td>0</td>\n",
              "      <td>0</td>\n",
              "      <td>0</td>\n",
              "      <td>0</td>\n",
              "      <td>0</td>\n",
              "      <td>0</td>\n",
              "      <td>1</td>\n",
              "      <td>0</td>\n",
              "      <td>0</td>\n",
              "    </tr>\n",
              "    <tr>\n",
              "      <th>1</th>\n",
              "      <td>0</td>\n",
              "      <td>0</td>\n",
              "      <td>0</td>\n",
              "      <td>0</td>\n",
              "      <td>0</td>\n",
              "      <td>0</td>\n",
              "      <td>0</td>\n",
              "      <td>0</td>\n",
              "      <td>0</td>\n",
              "      <td>0</td>\n",
              "      <td>...</td>\n",
              "      <td>0</td>\n",
              "      <td>0</td>\n",
              "      <td>0</td>\n",
              "      <td>0</td>\n",
              "      <td>0</td>\n",
              "      <td>0</td>\n",
              "      <td>0</td>\n",
              "      <td>1</td>\n",
              "      <td>0</td>\n",
              "      <td>0</td>\n",
              "    </tr>\n",
              "    <tr>\n",
              "      <th>2</th>\n",
              "      <td>0</td>\n",
              "      <td>0</td>\n",
              "      <td>0</td>\n",
              "      <td>0</td>\n",
              "      <td>0</td>\n",
              "      <td>0</td>\n",
              "      <td>0</td>\n",
              "      <td>0</td>\n",
              "      <td>0</td>\n",
              "      <td>0</td>\n",
              "      <td>...</td>\n",
              "      <td>0</td>\n",
              "      <td>0</td>\n",
              "      <td>0</td>\n",
              "      <td>0</td>\n",
              "      <td>0</td>\n",
              "      <td>0</td>\n",
              "      <td>0</td>\n",
              "      <td>1</td>\n",
              "      <td>0</td>\n",
              "      <td>0</td>\n",
              "    </tr>\n",
              "    <tr>\n",
              "      <th>3</th>\n",
              "      <td>0</td>\n",
              "      <td>0</td>\n",
              "      <td>0</td>\n",
              "      <td>0</td>\n",
              "      <td>0</td>\n",
              "      <td>0</td>\n",
              "      <td>0</td>\n",
              "      <td>0</td>\n",
              "      <td>0</td>\n",
              "      <td>0</td>\n",
              "      <td>...</td>\n",
              "      <td>0</td>\n",
              "      <td>0</td>\n",
              "      <td>0</td>\n",
              "      <td>0</td>\n",
              "      <td>0</td>\n",
              "      <td>0</td>\n",
              "      <td>0</td>\n",
              "      <td>1</td>\n",
              "      <td>0</td>\n",
              "      <td>0</td>\n",
              "    </tr>\n",
              "    <tr>\n",
              "      <th>4</th>\n",
              "      <td>0</td>\n",
              "      <td>0</td>\n",
              "      <td>0</td>\n",
              "      <td>1</td>\n",
              "      <td>0</td>\n",
              "      <td>0</td>\n",
              "      <td>0</td>\n",
              "      <td>0</td>\n",
              "      <td>0</td>\n",
              "      <td>0</td>\n",
              "      <td>...</td>\n",
              "      <td>0</td>\n",
              "      <td>0</td>\n",
              "      <td>0</td>\n",
              "      <td>0</td>\n",
              "      <td>0</td>\n",
              "      <td>0</td>\n",
              "      <td>0</td>\n",
              "      <td>0</td>\n",
              "      <td>0</td>\n",
              "      <td>0</td>\n",
              "    </tr>\n",
              "  </tbody>\n",
              "</table>\n",
              "<p>5 rows × 39 columns</p>\n",
              "</div>"
            ],
            "text/plain": [
              "   nc__ Canada  nc__ China  nc__ Columbia  nc__ Cuba  nc__ Dominican-Republic  \\\n",
              "0            0           0              0          0                        0   \n",
              "1            0           0              0          0                        0   \n",
              "2            0           0              0          0                        0   \n",
              "3            0           0              0          0                        0   \n",
              "4            0           0              0          1                        0   \n",
              "\n",
              "   nc__ Ecuador  nc__ El-Salvador  nc__ England  nc__ France  nc__ Germany  \\\n",
              "0             0                 0             0            0             0   \n",
              "1             0                 0             0            0             0   \n",
              "2             0                 0             0            0             0   \n",
              "3             0                 0             0            0             0   \n",
              "4             0                 0             0            0             0   \n",
              "\n",
              "        ...         nc__ Portugal  nc__ Puerto-Rico  nc__ Scotland  \\\n",
              "0       ...                     0                 0              0   \n",
              "1       ...                     0                 0              0   \n",
              "2       ...                     0                 0              0   \n",
              "3       ...                     0                 0              0   \n",
              "4       ...                     0                 0              0   \n",
              "\n",
              "   nc__ South  nc__ Taiwan  nc__ Thailand  nc__ Trinadad&Tobago  \\\n",
              "0           0            0              0                     0   \n",
              "1           0            0              0                     0   \n",
              "2           0            0              0                     0   \n",
              "3           0            0              0                     0   \n",
              "4           0            0              0                     0   \n",
              "\n",
              "   nc__ United-States  nc__ Vietnam  nc__ Yugoslavia  \n",
              "0                   1             0                0  \n",
              "1                   1             0                0  \n",
              "2                   1             0                0  \n",
              "3                   1             0                0  \n",
              "4                   0             0                0  \n",
              "\n",
              "[5 rows x 39 columns]"
            ]
          },
          "metadata": {
            "tags": []
          },
          "execution_count": 68
        }
      ]
    },
    {
      "cell_type": "code",
      "metadata": {
        "id": "gRKErSLS2Fqm",
        "outputId": "8319955e-3a18-4d8e-a9e1-cf2969cd691a"
      },
      "source": [
        "# concatenate the original DataFrame and the dummy DataFrame\n",
        "data_census7 = pd.concat([data_census6,country_dummies], axis=1)\n",
        "data_census7.head()"
      ],
      "execution_count": null,
      "outputs": [
        {
          "output_type": "execute_result",
          "data": {
            "text/html": [
              "<div>\n",
              "<style scoped>\n",
              "    .dataframe tbody tr th:only-of-type {\n",
              "        vertical-align: middle;\n",
              "    }\n",
              "\n",
              "    .dataframe tbody tr th {\n",
              "        vertical-align: top;\n",
              "    }\n",
              "\n",
              "    .dataframe thead th {\n",
              "        text-align: right;\n",
              "    }\n",
              "</style>\n",
              "<table border=\"1\" class=\"dataframe\">\n",
              "  <thead>\n",
              "    <tr style=\"text-align: right;\">\n",
              "      <th></th>\n",
              "      <th>age</th>\n",
              "      <th>workclass</th>\n",
              "      <th>education</th>\n",
              "      <th>marital_status</th>\n",
              "      <th>occupation</th>\n",
              "      <th>relationship</th>\n",
              "      <th>race</th>\n",
              "      <th>gender</th>\n",
              "      <th>hours_per_week</th>\n",
              "      <th>native_country</th>\n",
              "      <th>...</th>\n",
              "      <th>nc__ Portugal</th>\n",
              "      <th>nc__ Puerto-Rico</th>\n",
              "      <th>nc__ Scotland</th>\n",
              "      <th>nc__ South</th>\n",
              "      <th>nc__ Taiwan</th>\n",
              "      <th>nc__ Thailand</th>\n",
              "      <th>nc__ Trinadad&amp;Tobago</th>\n",
              "      <th>nc__ United-States</th>\n",
              "      <th>nc__ Vietnam</th>\n",
              "      <th>nc__ Yugoslavia</th>\n",
              "    </tr>\n",
              "  </thead>\n",
              "  <tbody>\n",
              "    <tr>\n",
              "      <th>0</th>\n",
              "      <td>39</td>\n",
              "      <td>State-gov</td>\n",
              "      <td>Bachelors</td>\n",
              "      <td>Never-married</td>\n",
              "      <td>Adm-clerical</td>\n",
              "      <td>Not-in-family</td>\n",
              "      <td>White</td>\n",
              "      <td>Male</td>\n",
              "      <td>40</td>\n",
              "      <td>United-States</td>\n",
              "      <td>...</td>\n",
              "      <td>0</td>\n",
              "      <td>0</td>\n",
              "      <td>0</td>\n",
              "      <td>0</td>\n",
              "      <td>0</td>\n",
              "      <td>0</td>\n",
              "      <td>0</td>\n",
              "      <td>1</td>\n",
              "      <td>0</td>\n",
              "      <td>0</td>\n",
              "    </tr>\n",
              "    <tr>\n",
              "      <th>1</th>\n",
              "      <td>50</td>\n",
              "      <td>Self-emp-not-inc</td>\n",
              "      <td>Bachelors</td>\n",
              "      <td>Married-civ-spouse</td>\n",
              "      <td>Exec-managerial</td>\n",
              "      <td>Husband</td>\n",
              "      <td>White</td>\n",
              "      <td>Male</td>\n",
              "      <td>13</td>\n",
              "      <td>United-States</td>\n",
              "      <td>...</td>\n",
              "      <td>0</td>\n",
              "      <td>0</td>\n",
              "      <td>0</td>\n",
              "      <td>0</td>\n",
              "      <td>0</td>\n",
              "      <td>0</td>\n",
              "      <td>0</td>\n",
              "      <td>1</td>\n",
              "      <td>0</td>\n",
              "      <td>0</td>\n",
              "    </tr>\n",
              "    <tr>\n",
              "      <th>2</th>\n",
              "      <td>38</td>\n",
              "      <td>Private</td>\n",
              "      <td>HS-grad</td>\n",
              "      <td>Divorced</td>\n",
              "      <td>Handlers-cleaners</td>\n",
              "      <td>Not-in-family</td>\n",
              "      <td>White</td>\n",
              "      <td>Male</td>\n",
              "      <td>40</td>\n",
              "      <td>United-States</td>\n",
              "      <td>...</td>\n",
              "      <td>0</td>\n",
              "      <td>0</td>\n",
              "      <td>0</td>\n",
              "      <td>0</td>\n",
              "      <td>0</td>\n",
              "      <td>0</td>\n",
              "      <td>0</td>\n",
              "      <td>1</td>\n",
              "      <td>0</td>\n",
              "      <td>0</td>\n",
              "    </tr>\n",
              "    <tr>\n",
              "      <th>3</th>\n",
              "      <td>53</td>\n",
              "      <td>Private</td>\n",
              "      <td>11th</td>\n",
              "      <td>Married-civ-spouse</td>\n",
              "      <td>Handlers-cleaners</td>\n",
              "      <td>Husband</td>\n",
              "      <td>Black</td>\n",
              "      <td>Male</td>\n",
              "      <td>40</td>\n",
              "      <td>United-States</td>\n",
              "      <td>...</td>\n",
              "      <td>0</td>\n",
              "      <td>0</td>\n",
              "      <td>0</td>\n",
              "      <td>0</td>\n",
              "      <td>0</td>\n",
              "      <td>0</td>\n",
              "      <td>0</td>\n",
              "      <td>1</td>\n",
              "      <td>0</td>\n",
              "      <td>0</td>\n",
              "    </tr>\n",
              "    <tr>\n",
              "      <th>4</th>\n",
              "      <td>28</td>\n",
              "      <td>Private</td>\n",
              "      <td>Bachelors</td>\n",
              "      <td>Married-civ-spouse</td>\n",
              "      <td>Prof-specialty</td>\n",
              "      <td>Wife</td>\n",
              "      <td>Black</td>\n",
              "      <td>Female</td>\n",
              "      <td>40</td>\n",
              "      <td>Cuba</td>\n",
              "      <td>...</td>\n",
              "      <td>0</td>\n",
              "      <td>0</td>\n",
              "      <td>0</td>\n",
              "      <td>0</td>\n",
              "      <td>0</td>\n",
              "      <td>0</td>\n",
              "      <td>0</td>\n",
              "      <td>0</td>\n",
              "      <td>0</td>\n",
              "      <td>0</td>\n",
              "    </tr>\n",
              "  </tbody>\n",
              "</table>\n",
              "<p>5 rows × 101 columns</p>\n",
              "</div>"
            ],
            "text/plain": [
              "   age          workclass   education       marital_status  \\\n",
              "0   39          State-gov   Bachelors        Never-married   \n",
              "1   50   Self-emp-not-inc   Bachelors   Married-civ-spouse   \n",
              "2   38            Private     HS-grad             Divorced   \n",
              "3   53            Private        11th   Married-civ-spouse   \n",
              "4   28            Private   Bachelors   Married-civ-spouse   \n",
              "\n",
              "           occupation    relationship    race   gender  hours_per_week  \\\n",
              "0        Adm-clerical   Not-in-family   White     Male              40   \n",
              "1     Exec-managerial         Husband   White     Male              13   \n",
              "2   Handlers-cleaners   Not-in-family   White     Male              40   \n",
              "3   Handlers-cleaners         Husband   Black     Male              40   \n",
              "4      Prof-specialty            Wife   Black   Female              40   \n",
              "\n",
              "   native_country       ...         nc__ Portugal  nc__ Puerto-Rico  \\\n",
              "0   United-States       ...                     0                 0   \n",
              "1   United-States       ...                     0                 0   \n",
              "2   United-States       ...                     0                 0   \n",
              "3   United-States       ...                     0                 0   \n",
              "4            Cuba       ...                     0                 0   \n",
              "\n",
              "   nc__ Scotland  nc__ South  nc__ Taiwan  nc__ Thailand  \\\n",
              "0              0           0            0              0   \n",
              "1              0           0            0              0   \n",
              "2              0           0            0              0   \n",
              "3              0           0            0              0   \n",
              "4              0           0            0              0   \n",
              "\n",
              "   nc__ Trinadad&Tobago  nc__ United-States  nc__ Vietnam  nc__ Yugoslavia  \n",
              "0                     0                   1             0                0  \n",
              "1                     0                   1             0                0  \n",
              "2                     0                   1             0                0  \n",
              "3                     0                   1             0                0  \n",
              "4                     0                   0             0                0  \n",
              "\n",
              "[5 rows x 101 columns]"
            ]
          },
          "metadata": {
            "tags": []
          },
          "execution_count": 69
        }
      ]
    },
    {
      "cell_type": "code",
      "metadata": {
        "id": "5af6uEiQ2Fqn",
        "outputId": "af95db42-2d35-42a9-a0ec-9a188e901fce"
      },
      "source": [
        "data_census7.columns.values"
      ],
      "execution_count": null,
      "outputs": [
        {
          "output_type": "execute_result",
          "data": {
            "text/plain": [
              "array(['age', 'workclass', 'education', 'marital_status', 'occupation',\n",
              "       'relationship', 'race', 'gender', 'hours_per_week',\n",
              "       'native_country', 'greater_than_50k', 'Wkc__ Local-gov',\n",
              "       'Wkc__ Never-worked', 'Wkc__ Private', 'Wkc__ Self-emp-inc',\n",
              "       'Wkc__ Self-emp-not-inc', 'Wkc__ State-gov', 'Wkc__ Without-pay',\n",
              "       'educ__ 11th', 'educ__ 12th', 'educ__ 1st-4th', 'educ__ 5th-6th',\n",
              "       'educ__ 7th-8th', 'educ__ 9th', 'educ__ Assoc-acdm',\n",
              "       'educ__ Assoc-voc', 'educ__ Bachelors', 'educ__ Doctorate',\n",
              "       'educ__ HS-grad', 'educ__ Masters', 'educ__ Preschool',\n",
              "       'educ__ Prof-school', 'educ__ Some-college',\n",
              "       'ms__ Married-AF-spouse', 'ms__ Married-civ-spouse',\n",
              "       'ms__ Married-spouse-absent', 'ms__ Never-married',\n",
              "       'ms__ Separated', 'ms__ Widowed', 'oc__ Armed-Forces',\n",
              "       'oc__ Craft-repair', 'oc__ Exec-managerial',\n",
              "       'oc__ Farming-fishing', 'oc__ Handlers-cleaners',\n",
              "       'oc__ Machine-op-inspct', 'oc__ Other-service',\n",
              "       'oc__ Priv-house-serv', 'oc__ Prof-specialty',\n",
              "       'oc__ Protective-serv', 'oc__ Sales', 'oc__ Tech-support',\n",
              "       'oc__ Transport-moving', 'rs__ Not-in-family',\n",
              "       'rs__ Other-relative', 'rs__ Own-child', 'rs__ Unmarried',\n",
              "       'rs__ Wife', 'race__ Asian-Pac-Islander', 'race__ Black',\n",
              "       'race__ Other', 'race__ White', 'gender__ Male', 'nc__ Canada',\n",
              "       'nc__ China', 'nc__ Columbia', 'nc__ Cuba',\n",
              "       'nc__ Dominican-Republic', 'nc__ Ecuador', 'nc__ El-Salvador',\n",
              "       'nc__ England', 'nc__ France', 'nc__ Germany', 'nc__ Greece',\n",
              "       'nc__ Guatemala', 'nc__ Haiti', 'nc__ Honduras', 'nc__ Hong',\n",
              "       'nc__ Hungary', 'nc__ India', 'nc__ Iran', 'nc__ Ireland',\n",
              "       'nc__ Italy', 'nc__ Jamaica', 'nc__ Japan', 'nc__ Laos',\n",
              "       'nc__ Mexico', 'nc__ Nicaragua', 'nc__ Outlying-US(Guam-USVI-etc)',\n",
              "       'nc__ Peru', 'nc__ Philippines', 'nc__ Poland', 'nc__ Portugal',\n",
              "       'nc__ Puerto-Rico', 'nc__ Scotland', 'nc__ South', 'nc__ Taiwan',\n",
              "       'nc__ Thailand', 'nc__ Trinadad&Tobago', 'nc__ United-States',\n",
              "       'nc__ Vietnam', 'nc__ Yugoslavia'], dtype=object)"
            ]
          },
          "metadata": {
            "tags": []
          },
          "execution_count": 70
        }
      ]
    },
    {
      "cell_type": "code",
      "metadata": {
        "id": "_NY2donN2Fqo"
      },
      "source": [
        "features = ['age','hours_per_week',\n",
        "       'Wkc__ Local-gov', 'Wkc__ Never-worked', 'Wkc__ Private',\n",
        "       'Wkc__ Self-emp-inc', 'Wkc__ Self-emp-not-inc', 'Wkc__ State-gov',\n",
        "       'Wkc__ Without-pay', 'educ__ 11th', 'educ__ 12th', 'educ__ 1st-4th',\n",
        "       'educ__ 5th-6th', 'educ__ 7th-8th', 'educ__ 9th', 'educ__ Assoc-acdm',\n",
        "       'educ__ Assoc-voc', 'educ__ Bachelors', 'educ__ Doctorate',\n",
        "       'educ__ HS-grad', 'educ__ Masters', 'educ__ Preschool',\n",
        "       'educ__ Prof-school', 'educ__ Some-college', 'ms__ Married-AF-spouse',\n",
        "       'ms__ Married-civ-spouse', 'ms__ Married-spouse-absent',\n",
        "       'ms__ Never-married', 'ms__ Separated', 'ms__ Widowed',\n",
        "       'oc__ Armed-Forces', 'oc__ Craft-repair', 'oc__ Exec-managerial',\n",
        "       'oc__ Farming-fishing', 'oc__ Handlers-cleaners',\n",
        "       'oc__ Machine-op-inspct', 'oc__ Other-service', 'oc__ Priv-house-serv',\n",
        "       'oc__ Prof-specialty', 'oc__ Protective-serv', 'oc__ Sales',\n",
        "       'oc__ Tech-support', 'oc__ Transport-moving', 'rs__ Not-in-family',\n",
        "       'rs__ Other-relative', 'rs__ Own-child', 'rs__ Unmarried', 'rs__ Wife',\n",
        "       'race__ Asian-Pac-Islander', 'race__ Black', 'race__ Other',\n",
        "       'race__ White', 'gender__ Male', 'nc__ Canada', 'nc__ China',\n",
        "       'nc__ Columbia', 'nc__ Cuba', 'nc__ Dominican-Republic', 'nc__ Ecuador',\n",
        "       'nc__ El-Salvador', 'nc__ England', 'nc__ France', 'nc__ Germany',\n",
        "       'nc__ Greece', 'nc__ Guatemala', 'nc__ Haiti', 'nc__ Honduras',\n",
        "       'nc__ Hong', 'nc__ Hungary', 'nc__ India', 'nc__ Iran', 'nc__ Ireland',\n",
        "       'nc__ Italy', 'nc__ Jamaica', 'nc__ Japan', 'nc__ Laos', 'nc__ Mexico',\n",
        "       'nc__ Nicaragua', 'nc__ Outlying-US(Guam-USVI-etc)', 'nc__ Peru',\n",
        "       'nc__ Philippines', 'nc__ Poland', 'nc__ Portugal', 'nc__ Puerto-Rico',\n",
        "       'nc__ Scotland', 'nc__ South', 'nc__ Taiwan', 'nc__ Thailand',\n",
        "       'nc__ Trinadad&Tobago', 'nc__ United-States', 'nc__ Vietnam',\n",
        "       'nc__ Yugoslavia']"
      ],
      "execution_count": null,
      "outputs": []
    },
    {
      "cell_type": "code",
      "metadata": {
        "id": "ZiI9vKb02Fqp",
        "outputId": "5712f47e-06e4-4ac5-8998-3110b9a410e8"
      },
      "source": [
        "X = data_census7[features].values\n",
        "X"
      ],
      "execution_count": null,
      "outputs": [
        {
          "output_type": "execute_result",
          "data": {
            "text/plain": [
              "array([[39, 40,  0, ...,  1,  0,  0],\n",
              "       [50, 13,  0, ...,  1,  0,  0],\n",
              "       [38, 40,  0, ...,  1,  0,  0],\n",
              "       ...,\n",
              "       [58, 40,  0, ...,  1,  0,  0],\n",
              "       [22, 20,  0, ...,  1,  0,  0],\n",
              "       [52, 40,  0, ...,  1,  0,  0]], dtype=int64)"
            ]
          },
          "metadata": {
            "tags": []
          },
          "execution_count": 72
        }
      ]
    },
    {
      "cell_type": "code",
      "metadata": {
        "id": "8FjJFywA2Fqp",
        "outputId": "f0468870-8e25-42f4-bc2e-805d23406a93"
      },
      "source": [
        "y = data_census7['greater_than_50k'].values\n",
        "y"
      ],
      "execution_count": null,
      "outputs": [
        {
          "output_type": "execute_result",
          "data": {
            "text/plain": [
              "array([0, 0, 0, ..., 0, 0, 1], dtype=int64)"
            ]
          },
          "metadata": {
            "tags": []
          },
          "execution_count": 73
        }
      ]
    },
    {
      "cell_type": "code",
      "metadata": {
        "id": "2_8He7an2Fqq"
      },
      "source": [
        "X_train, X_test, y_train, y_test = train_test_split(X, y, test_size = 0.3, random_state = 100)"
      ],
      "execution_count": null,
      "outputs": []
    },
    {
      "cell_type": "code",
      "metadata": {
        "id": "yU8rr0NE2Fqr",
        "outputId": "e5679060-313a-44cf-c80d-b4c334c887f2"
      },
      "source": [
        "X_train"
      ],
      "execution_count": null,
      "outputs": [
        {
          "output_type": "execute_result",
          "data": {
            "text/plain": [
              "array([[28, 40,  0, ...,  1,  0,  0],\n",
              "       [46, 38,  0, ...,  1,  0,  0],\n",
              "       [56, 15,  0, ...,  1,  0,  0],\n",
              "       ...,\n",
              "       [32, 50,  0, ...,  0,  0,  0],\n",
              "       [23, 36,  0, ...,  0,  0,  0],\n",
              "       [35, 40,  0, ...,  1,  0,  0]], dtype=int64)"
            ]
          },
          "metadata": {
            "tags": []
          },
          "execution_count": 75
        }
      ]
    },
    {
      "cell_type": "code",
      "metadata": {
        "id": "SDiYIHn72Fqs",
        "outputId": "8f8251d6-8c53-4008-8547-44706fd27c79"
      },
      "source": [
        "y_train"
      ],
      "execution_count": null,
      "outputs": [
        {
          "output_type": "execute_result",
          "data": {
            "text/plain": [
              "array([0, 0, 0, ..., 1, 0, 0], dtype=int64)"
            ]
          },
          "metadata": {
            "tags": []
          },
          "execution_count": 76
        }
      ]
    },
    {
      "cell_type": "markdown",
      "metadata": {
        "id": "lQsTXXe_2Fqs"
      },
      "source": [
        "## Arbol de Decision"
      ]
    },
    {
      "cell_type": "code",
      "metadata": {
        "id": "RLxShLWH2Fqt",
        "outputId": "9b45d7fb-922a-4d31-8f2b-32cfc5b4b689"
      },
      "source": [
        "clf_gini = DecisionTreeClassifier(criterion = \"gini\", random_state = 100,max_depth=3, min_samples_leaf=5)\n",
        "\n",
        "clf_gini.fit(X_train, y_train)"
      ],
      "execution_count": null,
      "outputs": [
        {
          "output_type": "execute_result",
          "data": {
            "text/plain": [
              "DecisionTreeClassifier(class_weight=None, criterion='gini', max_depth=3,\n",
              "            max_features=None, max_leaf_nodes=None,\n",
              "            min_impurity_decrease=0.0, min_impurity_split=None,\n",
              "            min_samples_leaf=5, min_samples_split=2,\n",
              "            min_weight_fraction_leaf=0.0, presort=False, random_state=100,\n",
              "            splitter='best')"
            ]
          },
          "metadata": {
            "tags": []
          },
          "execution_count": 77
        }
      ]
    },
    {
      "cell_type": "code",
      "metadata": {
        "id": "Oqp8K8U32Fqu"
      },
      "source": [
        "feat_importance=pd.DataFrame({'feature':features, 'importance':clf_gini.feature_importances_})"
      ],
      "execution_count": null,
      "outputs": []
    },
    {
      "cell_type": "code",
      "metadata": {
        "id": "B4wo-0gQ2Fqu",
        "outputId": "37e16c0c-2e08-4596-d644-ad8eec248ab7"
      },
      "source": [
        "clf_gini.feature_importances_"
      ],
      "execution_count": null,
      "outputs": [
        {
          "output_type": "execute_result",
          "data": {
            "text/plain": [
              "array([0.02418128, 0.04802307, 0.        , 0.        , 0.        ,\n",
              "       0.        , 0.        , 0.        , 0.        , 0.        ,\n",
              "       0.        , 0.        , 0.        , 0.        , 0.        ,\n",
              "       0.        , 0.        , 0.10786365, 0.        , 0.        ,\n",
              "       0.        , 0.        , 0.        , 0.        , 0.        ,\n",
              "       0.71714959, 0.        , 0.        , 0.        , 0.        ,\n",
              "       0.        , 0.        , 0.        , 0.        , 0.        ,\n",
              "       0.        , 0.        , 0.        , 0.10278242, 0.        ,\n",
              "       0.        , 0.        , 0.        , 0.        , 0.        ,\n",
              "       0.        , 0.        , 0.        , 0.        , 0.        ,\n",
              "       0.        , 0.        , 0.        , 0.        , 0.        ,\n",
              "       0.        , 0.        , 0.        , 0.        , 0.        ,\n",
              "       0.        , 0.        , 0.        , 0.        , 0.        ,\n",
              "       0.        , 0.        , 0.        , 0.        , 0.        ,\n",
              "       0.        , 0.        , 0.        , 0.        , 0.        ,\n",
              "       0.        , 0.        , 0.        , 0.        , 0.        ,\n",
              "       0.        , 0.        , 0.        , 0.        , 0.        ,\n",
              "       0.        , 0.        , 0.        , 0.        , 0.        ,\n",
              "       0.        , 0.        ])"
            ]
          },
          "metadata": {
            "tags": []
          },
          "execution_count": 79
        }
      ]
    },
    {
      "cell_type": "code",
      "metadata": {
        "id": "DWZ37wgP2Fqv",
        "outputId": "cef37673-4614-4f65-c131-0f469fcb6897"
      },
      "source": [
        "feat_importance.sort_values('importance',ascending=False).head()"
      ],
      "execution_count": null,
      "outputs": [
        {
          "output_type": "execute_result",
          "data": {
            "text/html": [
              "<div>\n",
              "<style scoped>\n",
              "    .dataframe tbody tr th:only-of-type {\n",
              "        vertical-align: middle;\n",
              "    }\n",
              "\n",
              "    .dataframe tbody tr th {\n",
              "        vertical-align: top;\n",
              "    }\n",
              "\n",
              "    .dataframe thead th {\n",
              "        text-align: right;\n",
              "    }\n",
              "</style>\n",
              "<table border=\"1\" class=\"dataframe\">\n",
              "  <thead>\n",
              "    <tr style=\"text-align: right;\">\n",
              "      <th></th>\n",
              "      <th>feature</th>\n",
              "      <th>importance</th>\n",
              "    </tr>\n",
              "  </thead>\n",
              "  <tbody>\n",
              "    <tr>\n",
              "      <th>25</th>\n",
              "      <td>ms__ Married-civ-spouse</td>\n",
              "      <td>0.717150</td>\n",
              "    </tr>\n",
              "    <tr>\n",
              "      <th>17</th>\n",
              "      <td>educ__ Bachelors</td>\n",
              "      <td>0.107864</td>\n",
              "    </tr>\n",
              "    <tr>\n",
              "      <th>38</th>\n",
              "      <td>oc__ Prof-specialty</td>\n",
              "      <td>0.102782</td>\n",
              "    </tr>\n",
              "    <tr>\n",
              "      <th>1</th>\n",
              "      <td>hours_per_week</td>\n",
              "      <td>0.048023</td>\n",
              "    </tr>\n",
              "    <tr>\n",
              "      <th>0</th>\n",
              "      <td>age</td>\n",
              "      <td>0.024181</td>\n",
              "    </tr>\n",
              "  </tbody>\n",
              "</table>\n",
              "</div>"
            ],
            "text/plain": [
              "                    feature  importance\n",
              "25  ms__ Married-civ-spouse    0.717150\n",
              "17         educ__ Bachelors    0.107864\n",
              "38      oc__ Prof-specialty    0.102782\n",
              "1            hours_per_week    0.048023\n",
              "0                       age    0.024181"
            ]
          },
          "metadata": {
            "tags": []
          },
          "execution_count": 80
        }
      ]
    },
    {
      "cell_type": "code",
      "metadata": {
        "scrolled": true,
        "id": "IWcVkz9u2Fqw"
      },
      "source": [
        "feat_importance.to_csv('features_importance.csv')"
      ],
      "execution_count": null,
      "outputs": []
    },
    {
      "cell_type": "code",
      "metadata": {
        "id": "N7YnpGYg2Fqw"
      },
      "source": [
        "with open(\"tree_income.txt\", \"w\") as f:\n",
        "    f = export_graphviz(clf_gini, out_file=f,feature_names=features)"
      ],
      "execution_count": null,
      "outputs": []
    },
    {
      "cell_type": "code",
      "metadata": {
        "id": "CT2T4Zq72Fqx",
        "outputId": "10d8cae2-f29e-4110-e6b8-0a00d54f97ec"
      },
      "source": [
        "y_pred = clf_gini.predict(X_test)\n",
        "y_pred"
      ],
      "execution_count": null,
      "outputs": [
        {
          "output_type": "execute_result",
          "data": {
            "text/plain": [
              "array([0, 0, 0, ..., 0, 0, 0], dtype=int64)"
            ]
          },
          "metadata": {
            "tags": []
          },
          "execution_count": 83
        }
      ]
    },
    {
      "cell_type": "markdown",
      "metadata": {
        "id": "zf5yuKnl2Fqy"
      },
      "source": [
        "Veamos como performa el modelo"
      ]
    },
    {
      "cell_type": "code",
      "metadata": {
        "scrolled": true,
        "id": "BBMuXNem2Fqy",
        "outputId": "e308ae2c-fdd9-4c63-8907-4ed18097a062"
      },
      "source": [
        "accuracy_score(y_test,y_pred)*100"
      ],
      "execution_count": null,
      "outputs": [
        {
          "output_type": "execute_result",
          "data": {
            "text/plain": [
              "81.1015561015561"
            ]
          },
          "metadata": {
            "tags": []
          },
          "execution_count": 84
        }
      ]
    },
    {
      "cell_type": "markdown",
      "metadata": {
        "id": "O-umgRhE2Fqz"
      },
      "source": [
        "### Matriz de Confusión y otros indicadores"
      ]
    },
    {
      "cell_type": "code",
      "metadata": {
        "scrolled": true,
        "id": "v7Qbc7qW2Fq0",
        "outputId": "b0781172-8b54-4435-f041-8602143f6f14"
      },
      "source": [
        "pd.crosstab(y_test,y_pred\n",
        "                  ,rownames = ['Real']\n",
        "                  ,colnames = ['Predicho'])"
      ],
      "execution_count": null,
      "outputs": [
        {
          "output_type": "execute_result",
          "data": {
            "text/html": [
              "<div>\n",
              "<style scoped>\n",
              "    .dataframe tbody tr th:only-of-type {\n",
              "        vertical-align: middle;\n",
              "    }\n",
              "\n",
              "    .dataframe tbody tr th {\n",
              "        vertical-align: top;\n",
              "    }\n",
              "\n",
              "    .dataframe thead th {\n",
              "        text-align: right;\n",
              "    }\n",
              "</style>\n",
              "<table border=\"1\" class=\"dataframe\">\n",
              "  <thead>\n",
              "    <tr style=\"text-align: right;\">\n",
              "      <th>Predicho</th>\n",
              "      <th>0</th>\n",
              "      <th>1</th>\n",
              "    </tr>\n",
              "    <tr>\n",
              "      <th>Real</th>\n",
              "      <th></th>\n",
              "      <th></th>\n",
              "    </tr>\n",
              "  </thead>\n",
              "  <tbody>\n",
              "    <tr>\n",
              "      <th>0</th>\n",
              "      <td>7100</td>\n",
              "      <td>346</td>\n",
              "    </tr>\n",
              "    <tr>\n",
              "      <th>1</th>\n",
              "      <td>1500</td>\n",
              "      <td>822</td>\n",
              "    </tr>\n",
              "  </tbody>\n",
              "</table>\n",
              "</div>"
            ],
            "text/plain": [
              "Predicho     0    1\n",
              "Real               \n",
              "0         7100  346\n",
              "1         1500  822"
            ]
          },
          "metadata": {
            "tags": []
          },
          "execution_count": 85
        }
      ]
    },
    {
      "cell_type": "markdown",
      "metadata": {
        "id": "r6vfQnSS2Fq1"
      },
      "source": [
        "### Accuracy"
      ]
    },
    {
      "cell_type": "code",
      "metadata": {
        "id": "RPq4cQZ72Fq1",
        "outputId": "59b66f30-dbaa-4855-8cc7-1cbcc979dbc7"
      },
      "source": [
        "(7100+822)/(1500+822+7100+346)"
      ],
      "execution_count": null,
      "outputs": [
        {
          "output_type": "execute_result",
          "data": {
            "text/plain": [
              "0.811015561015561"
            ]
          },
          "metadata": {
            "tags": []
          },
          "execution_count": 86
        }
      ]
    },
    {
      "cell_type": "markdown",
      "metadata": {
        "id": "ccwiC2S42Fq2"
      },
      "source": [
        "### Recall"
      ]
    },
    {
      "cell_type": "code",
      "metadata": {
        "id": "RhKC7Ko82Fq2",
        "outputId": "11bff58d-ac75-44eb-de54-2712adfeed6a"
      },
      "source": [
        "822/(1500+822)"
      ],
      "execution_count": null,
      "outputs": [
        {
          "output_type": "execute_result",
          "data": {
            "text/plain": [
              "0.35400516795865633"
            ]
          },
          "metadata": {
            "tags": []
          },
          "execution_count": 87
        }
      ]
    },
    {
      "cell_type": "markdown",
      "metadata": {
        "id": "PWi7sulh2Fq3"
      },
      "source": [
        "### Precision"
      ]
    },
    {
      "cell_type": "code",
      "metadata": {
        "id": "CUTPdRvO2Fq4",
        "outputId": "643c14b3-ef79-4fe6-acba-482a4bc93da6"
      },
      "source": [
        "822/(346+822)"
      ],
      "execution_count": null,
      "outputs": [
        {
          "output_type": "execute_result",
          "data": {
            "text/plain": [
              "0.7037671232876712"
            ]
          },
          "metadata": {
            "tags": []
          },
          "execution_count": 88
        }
      ]
    },
    {
      "cell_type": "markdown",
      "metadata": {
        "id": "Njf0pN-s2Fq5"
      },
      "source": [
        "### F1 Score"
      ]
    },
    {
      "cell_type": "code",
      "metadata": {
        "id": "Tlm7mM-62Fq5",
        "outputId": "1ca3c2ee-6247-42c1-f3ef-4d82ff0cd2a6"
      },
      "source": [
        "2*(0.7*0.35)/(0.7+0.35)"
      ],
      "execution_count": null,
      "outputs": [
        {
          "output_type": "execute_result",
          "data": {
            "text/plain": [
              "0.4666666666666667"
            ]
          },
          "metadata": {
            "tags": []
          },
          "execution_count": 89
        }
      ]
    },
    {
      "cell_type": "markdown",
      "metadata": {
        "id": "amI5k5Ox2Fq6"
      },
      "source": [
        "### Measure of the model"
      ]
    },
    {
      "cell_type": "code",
      "metadata": {
        "id": "sldsYYUV2Fq6",
        "outputId": "a7fa07a3-372c-4686-e0d3-ff5eb4025927"
      },
      "source": [
        "print ('\\n \\n')\n",
        "\n",
        "print (classification_report(y_test,y_pred))"
      ],
      "execution_count": null,
      "outputs": [
        {
          "output_type": "stream",
          "text": [
            "\n",
            " \n",
            "\n",
            "              precision    recall  f1-score   support\n",
            "\n",
            "           0       0.83      0.95      0.88      7446\n",
            "           1       0.70      0.35      0.47      2322\n",
            "\n",
            "   micro avg       0.81      0.81      0.81      9768\n",
            "   macro avg       0.76      0.65      0.68      9768\n",
            "weighted avg       0.80      0.81      0.79      9768\n",
            "\n"
          ],
          "name": "stdout"
        }
      ]
    },
    {
      "cell_type": "markdown",
      "metadata": {
        "id": "sO_acdFZ2Fq7"
      },
      "source": [
        "### Otro Árbol"
      ]
    },
    {
      "cell_type": "code",
      "metadata": {
        "id": "YwtT_-WX2Fq8",
        "outputId": "f665f4b0-f19e-4dfa-9c25-9482af9ea083"
      },
      "source": [
        "clf_gini_2 = DecisionTreeClassifier(criterion = \"gini\", random_state = 100, max_depth=11, min_samples_leaf=59)\n",
        "\n",
        "clf_gini_2.fit(X_train, y_train)"
      ],
      "execution_count": null,
      "outputs": [
        {
          "output_type": "execute_result",
          "data": {
            "text/plain": [
              "DecisionTreeClassifier(class_weight=None, criterion='gini', max_depth=11,\n",
              "            max_features=None, max_leaf_nodes=None,\n",
              "            min_impurity_decrease=0.0, min_impurity_split=None,\n",
              "            min_samples_leaf=59, min_samples_split=2,\n",
              "            min_weight_fraction_leaf=0.0, presort=False, random_state=100,\n",
              "            splitter='best')"
            ]
          },
          "metadata": {
            "tags": []
          },
          "execution_count": 91
        }
      ]
    },
    {
      "cell_type": "code",
      "metadata": {
        "id": "xwCqxt9l2Fq9"
      },
      "source": [
        "feat_importance_2=pd.DataFrame({'feature':features, 'importance':clf_gini_2.feature_importances_})"
      ],
      "execution_count": null,
      "outputs": []
    },
    {
      "cell_type": "code",
      "metadata": {
        "id": "fdWGop7K2Fq9",
        "outputId": "3c2c47c0-7e76-4c6d-9fa4-f412f5fc27b1"
      },
      "source": [
        "clf_gini_2.feature_importances_"
      ],
      "execution_count": null,
      "outputs": [
        {
          "output_type": "execute_result",
          "data": {
            "text/plain": [
              "array([7.74655328e-02, 6.20521659e-02, 7.61904531e-06, 0.00000000e+00,\n",
              "       2.83060270e-03, 0.00000000e+00, 7.88597728e-03, 0.00000000e+00,\n",
              "       0.00000000e+00, 0.00000000e+00, 0.00000000e+00, 0.00000000e+00,\n",
              "       0.00000000e+00, 7.40751633e-03, 0.00000000e+00, 0.00000000e+00,\n",
              "       1.52637180e-03, 8.52384802e-02, 3.93320084e-03, 2.09799736e-03,\n",
              "       1.84150015e-02, 0.00000000e+00, 5.01763004e-03, 2.43195625e-03,\n",
              "       0.00000000e+00, 5.20221442e-01, 0.00000000e+00, 6.51465872e-05,\n",
              "       7.42516975e-06, 0.00000000e+00, 0.00000000e+00, 3.93372450e-04,\n",
              "       7.02326777e-02, 7.56738224e-03, 0.00000000e+00, 5.48607211e-06,\n",
              "       8.98439292e-03, 0.00000000e+00, 9.35865510e-02, 0.00000000e+00,\n",
              "       6.97637509e-03, 6.90340243e-03, 1.04712434e-04, 1.01725065e-03,\n",
              "       0.00000000e+00, 0.00000000e+00, 0.00000000e+00, 1.66113546e-03,\n",
              "       6.66893142e-06, 1.28884245e-04, 0.00000000e+00, 0.00000000e+00,\n",
              "       5.82764212e-03, 0.00000000e+00, 0.00000000e+00, 0.00000000e+00,\n",
              "       0.00000000e+00, 0.00000000e+00, 0.00000000e+00, 0.00000000e+00,\n",
              "       0.00000000e+00, 0.00000000e+00, 0.00000000e+00, 0.00000000e+00,\n",
              "       0.00000000e+00, 0.00000000e+00, 0.00000000e+00, 0.00000000e+00,\n",
              "       0.00000000e+00, 0.00000000e+00, 0.00000000e+00, 0.00000000e+00,\n",
              "       0.00000000e+00, 0.00000000e+00, 0.00000000e+00, 0.00000000e+00,\n",
              "       0.00000000e+00, 0.00000000e+00, 0.00000000e+00, 0.00000000e+00,\n",
              "       0.00000000e+00, 0.00000000e+00, 0.00000000e+00, 0.00000000e+00,\n",
              "       0.00000000e+00, 0.00000000e+00, 0.00000000e+00, 0.00000000e+00,\n",
              "       0.00000000e+00, 0.00000000e+00, 0.00000000e+00, 0.00000000e+00])"
            ]
          },
          "metadata": {
            "tags": []
          },
          "execution_count": 93
        }
      ]
    },
    {
      "cell_type": "code",
      "metadata": {
        "id": "YHb-sGQa2Fq-",
        "outputId": "d19cd037-af43-4a24-bdd8-55550e88df92"
      },
      "source": [
        "feat_importance_2.sort_values('importance',ascending=False).head()"
      ],
      "execution_count": null,
      "outputs": [
        {
          "output_type": "execute_result",
          "data": {
            "text/html": [
              "<div>\n",
              "<style scoped>\n",
              "    .dataframe tbody tr th:only-of-type {\n",
              "        vertical-align: middle;\n",
              "    }\n",
              "\n",
              "    .dataframe tbody tr th {\n",
              "        vertical-align: top;\n",
              "    }\n",
              "\n",
              "    .dataframe thead th {\n",
              "        text-align: right;\n",
              "    }\n",
              "</style>\n",
              "<table border=\"1\" class=\"dataframe\">\n",
              "  <thead>\n",
              "    <tr style=\"text-align: right;\">\n",
              "      <th></th>\n",
              "      <th>feature</th>\n",
              "      <th>importance</th>\n",
              "    </tr>\n",
              "  </thead>\n",
              "  <tbody>\n",
              "    <tr>\n",
              "      <th>25</th>\n",
              "      <td>ms__ Married-civ-spouse</td>\n",
              "      <td>0.520221</td>\n",
              "    </tr>\n",
              "    <tr>\n",
              "      <th>38</th>\n",
              "      <td>oc__ Prof-specialty</td>\n",
              "      <td>0.093587</td>\n",
              "    </tr>\n",
              "    <tr>\n",
              "      <th>17</th>\n",
              "      <td>educ__ Bachelors</td>\n",
              "      <td>0.085238</td>\n",
              "    </tr>\n",
              "    <tr>\n",
              "      <th>0</th>\n",
              "      <td>age</td>\n",
              "      <td>0.077466</td>\n",
              "    </tr>\n",
              "    <tr>\n",
              "      <th>32</th>\n",
              "      <td>oc__ Exec-managerial</td>\n",
              "      <td>0.070233</td>\n",
              "    </tr>\n",
              "  </tbody>\n",
              "</table>\n",
              "</div>"
            ],
            "text/plain": [
              "                    feature  importance\n",
              "25  ms__ Married-civ-spouse    0.520221\n",
              "38      oc__ Prof-specialty    0.093587\n",
              "17         educ__ Bachelors    0.085238\n",
              "0                       age    0.077466\n",
              "32     oc__ Exec-managerial    0.070233"
            ]
          },
          "metadata": {
            "tags": []
          },
          "execution_count": 94
        }
      ]
    },
    {
      "cell_type": "code",
      "metadata": {
        "scrolled": true,
        "id": "mDZR4gB32Fq_"
      },
      "source": [
        "feat_importance_2.to_csv('features_importance.csv')"
      ],
      "execution_count": null,
      "outputs": []
    },
    {
      "cell_type": "code",
      "metadata": {
        "id": "XA_zmqC_2FrA"
      },
      "source": [
        "with open(\"ruta/tree_income.txt\", \"w\") as f:\n",
        "    f = export_graphviz(clf_gini_2, out_file=f,feature_names=features)"
      ],
      "execution_count": null,
      "outputs": []
    },
    {
      "cell_type": "code",
      "metadata": {
        "id": "46cpzqkj2FrA",
        "outputId": "1c4592ea-5d6c-47e8-8f16-807da433d669"
      },
      "source": [
        "y_pred_2 = clf_gini_2.predict(X_test)\n",
        "y_pred_2"
      ],
      "execution_count": null,
      "outputs": [
        {
          "output_type": "execute_result",
          "data": {
            "text/plain": [
              "array([0, 0, 0, ..., 0, 0, 0], dtype=int64)"
            ]
          },
          "metadata": {
            "tags": []
          },
          "execution_count": 97
        }
      ]
    },
    {
      "cell_type": "markdown",
      "metadata": {
        "id": "13h6zd9H2FrB"
      },
      "source": [
        "Veamos como performa el modelo"
      ]
    },
    {
      "cell_type": "code",
      "metadata": {
        "scrolled": true,
        "id": "1wAF77oS2FrC",
        "outputId": "49391c2d-75a8-4adf-e12c-383141c66318"
      },
      "source": [
        "accuracy_score(y_test,y_pred_2)*100"
      ],
      "execution_count": null,
      "outputs": [
        {
          "output_type": "execute_result",
          "data": {
            "text/plain": [
              "82.89312039312038"
            ]
          },
          "metadata": {
            "tags": []
          },
          "execution_count": 98
        }
      ]
    },
    {
      "cell_type": "markdown",
      "metadata": {
        "id": "tP_iqktU2FrC"
      },
      "source": [
        "### Matriz de Confusión y otros indicadores"
      ]
    },
    {
      "cell_type": "code",
      "metadata": {
        "scrolled": true,
        "id": "yQp3cQhf2FrD",
        "outputId": "9fa07064-4721-4c4a-9e41-7c9e3fcfc1ce"
      },
      "source": [
        "pd.crosstab(y_test,y_pred_2\n",
        "                  ,rownames = ['Real']\n",
        "                  ,colnames = ['Predicho'])"
      ],
      "execution_count": null,
      "outputs": [
        {
          "output_type": "execute_result",
          "data": {
            "text/html": [
              "<div>\n",
              "<style scoped>\n",
              "    .dataframe tbody tr th:only-of-type {\n",
              "        vertical-align: middle;\n",
              "    }\n",
              "\n",
              "    .dataframe tbody tr th {\n",
              "        vertical-align: top;\n",
              "    }\n",
              "\n",
              "    .dataframe thead th {\n",
              "        text-align: right;\n",
              "    }\n",
              "</style>\n",
              "<table border=\"1\" class=\"dataframe\">\n",
              "  <thead>\n",
              "    <tr style=\"text-align: right;\">\n",
              "      <th>Predicho</th>\n",
              "      <th>0</th>\n",
              "      <th>1</th>\n",
              "    </tr>\n",
              "    <tr>\n",
              "      <th>Real</th>\n",
              "      <th></th>\n",
              "      <th></th>\n",
              "    </tr>\n",
              "  </thead>\n",
              "  <tbody>\n",
              "    <tr>\n",
              "      <th>0</th>\n",
              "      <td>6915</td>\n",
              "      <td>531</td>\n",
              "    </tr>\n",
              "    <tr>\n",
              "      <th>1</th>\n",
              "      <td>1140</td>\n",
              "      <td>1182</td>\n",
              "    </tr>\n",
              "  </tbody>\n",
              "</table>\n",
              "</div>"
            ],
            "text/plain": [
              "Predicho     0     1\n",
              "Real                \n",
              "0         6915   531\n",
              "1         1140  1182"
            ]
          },
          "metadata": {
            "tags": []
          },
          "execution_count": 99
        }
      ]
    },
    {
      "cell_type": "markdown",
      "metadata": {
        "id": "_8rZnX-l2FrE"
      },
      "source": [
        "### Measure of the model"
      ]
    },
    {
      "cell_type": "code",
      "metadata": {
        "id": "etysvy_Z2FrE",
        "outputId": "d46e303e-7379-4241-8a7b-f025a18fab7d"
      },
      "source": [
        "print ('\\n \\n')\n",
        "\n",
        "print (classification_report(y_test,y_pred))"
      ],
      "execution_count": null,
      "outputs": [
        {
          "output_type": "stream",
          "text": [
            "\n",
            " \n",
            "\n",
            "              precision    recall  f1-score   support\n",
            "\n",
            "           0       0.83      0.95      0.88      7446\n",
            "           1       0.70      0.35      0.47      2322\n",
            "\n",
            "   micro avg       0.81      0.81      0.81      9768\n",
            "   macro avg       0.76      0.65      0.68      9768\n",
            "weighted avg       0.80      0.81      0.79      9768\n",
            "\n"
          ],
          "name": "stdout"
        }
      ]
    },
    {
      "cell_type": "code",
      "metadata": {
        "id": "QWp7OIbO2FrF",
        "outputId": "3e357628-ede5-4726-8a19-d3c35e566b01"
      },
      "source": [
        "print ('\\n \\n')\n",
        "\n",
        "print (classification_report(y_test,y_pred_2))"
      ],
      "execution_count": null,
      "outputs": [
        {
          "output_type": "stream",
          "text": [
            "\n",
            " \n",
            "\n",
            "              precision    recall  f1-score   support\n",
            "\n",
            "           0       0.86      0.93      0.89      7446\n",
            "           1       0.69      0.51      0.59      2322\n",
            "\n",
            "   micro avg       0.83      0.83      0.83      9768\n",
            "   macro avg       0.77      0.72      0.74      9768\n",
            "weighted avg       0.82      0.83      0.82      9768\n",
            "\n"
          ],
          "name": "stdout"
        }
      ]
    },
    {
      "cell_type": "code",
      "metadata": {
        "id": "L1r6eaUS2FrG"
      },
      "source": [
        ""
      ],
      "execution_count": null,
      "outputs": []
    }
  ]
}